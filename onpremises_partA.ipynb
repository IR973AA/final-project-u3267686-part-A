{
 "cells": [
  {
   "cell_type": "markdown",
   "metadata": {},
   "source": [
    "# Problem: Predicting Airplane Delays\n",
    "\n",
    "The goals of this notebook are:\n",
    "- Process and create a dataset from downloaded ZIP files\n",
    "- Exploratory data analysis (EDA)\n",
    "- Establish a baseline model and improve it\n",
    "\n",
    "## Introduction to business scenario\n",
    "You work for a travel booking website that is working to improve the customer experience for flights that were delayed. The company wants to create a feature to let customers know if the flight will be delayed due to weather when the customers are booking the flight to or from the busiest airports for domestic travel in the US. \n",
    "\n",
    "You are tasked with solving part of this problem by leveraging machine learning to identify whether the flight will be delayed due to weather. You have been given access to the a dataset of on-time performance of domestic flights operated by large air carriers. You can use this data to train a machine learning model to predict if the flight is going to be delayed for the busiest airports.\n",
    "\n",
    "### Dataset\n",
    "The provided dataset contains scheduled and actual departure and arrival times reported by certified US air carriers that account for at least 1 percent of domestic scheduled passenger revenues. The data was collected by the Office of Airline Information, Bureau of Transportation Statistics (BTS). The dataset contains date, time, origin, destination, airline, distance, and delay status of flights for flights between 2014 and 2018.\n",
    "The data are in 60 compressed files, where each file contains a CSV for the flight details in a month for the five years (from 2014 - 2018). The data can be downloaded from this link: [https://ucstaff-my.sharepoint.com/:f:/g/personal/ibrahim_radwan_canberra_edu_au/Er0nVreXmihEmtMz5qC5kVIB81-ugSusExPYdcyQTglfLg?e=bNO312]. Please download the data files and place them on a relative path. Dataset(s) used in this assignment were compiled by the Office of Airline Information, Bureau of Transportation Statistics (BTS), Airline On-Time Performance Data, available with the following link: [https://www.transtats.bts.gov/Fields.asp?gnoyr_VQ=FGJ]. "
   ]
  },
  {
   "cell_type": "markdown",
   "metadata": {},
   "source": [
    "# Step 1: Problem formulation and data collection\n",
    "\n",
    "Start this project off by writing a few sentences below that summarize the business problem and the business goal you're trying to achieve in this scenario. Include a business metric you would like your team to aspire toward. With that information defined, clearly write out the machine learning problem statement. Finally, add a comment or two about the type of machine learning this represents. \n",
    "\n",
    "\n",
    "### 1. Determine if and why ML is an appropriate solution to deploy."
   ]
  },
  {
   "cell_type": "markdown",
   "metadata": {},
   "source": [
    "Machine learning has been used very extensively to determine if there will be delay in flights.Predicting flight delays is an essential and difficult subject in the flight scheduling and planning sector for airports and airlines. Many academic work has been conducted, that has shown great accuracy in statistical measuring scale. Machine learing is an appropriate and proven approach in determining flight delay and related metrics because:\n",
    "1. **Understanding Complex Patterns:**  Flight delays can be influenced by numerious factors, like weather conditions, operational effectiveness of airports, operations capability of the airiine company and can be compounded by air traffic situation, security issues etc. Right ML model can be used to identify relatable patterns amongst these factors; that can be helpful for more precise prediction. \n",
    "2. **Predictive Power:**  Machine learning algorithms uses the past data to establish patterns and record trends amongst involved factors that is helpful for future prediction. Potential delays can be anticipated by training the model with past flight data and weather conditons.\n",
    "3. **Large Dataset:**  This dataset contains numerous records of flight performance along with the factors and conditions it had to face. Therefore it requires enormous computational capability of ML for prediction.\n",
    "4. **Future Adjustments and Scaling options:** There is an option for ML models to be constantly updated and retrained with fresh data to enhance accuracy and adapt to changing conditions.\n",
    "\n",
    "**Reference:**\n",
    "> https://airclaim.com/10-most-common-causes-of-flight-delays\n",
    "\n",
    "> https://www.sciencedirect.com/science/article/pii/S1366554518311979?casa_token=UDtqsJxDi0UAAAAA:TZ0mGnCGwbDWMod1bT37kygZtZxZEJWqFupQjjL_pF5FnwJJdf2gfjkCWvh1yKHgWc9Q0CWZcIk#s0070"
   ]
  },
  {
   "cell_type": "markdown",
   "metadata": {},
   "source": [
    "### 2. Formulate the business problem, success metrics, and desired ML output."
   ]
  },
  {
   "cell_type": "markdown",
   "metadata": {},
   "source": [
    "**Business Problem:** \n",
    "Flight delays incur major operational and financial expenses for both airlines and passengers. The objective is to formulate a predictive model that can anticipate flight delays based on past data, allowing airlines to improve operations, better allocate resources, and notify passengers in advance.\n",
    "\n",
    "**Machine Learing Outputs:** \n",
    "A binary classification(1/0) outcome that indicates whether a flight will be \"delayed\" or \"on-time\"(no delay). This makes airliners possible to identify potential delays and take proactive measures.\n",
    "There is further option to do regression that predict continuous numeric variables like 'delay time' when there is delay.\n",
    "\n",
    "\n",
    "**Success Metrics:**\n",
    "As part of evaluating success of the *Binary Classification* problem, we would see these metrics,\n",
    "*Accuracy*: the percentage of accurately predicted delays vs non-delays.\n",
    "*Precision*: The percentage of expected delays that really occur.\n",
    "*Recall*: The proportion of actual delays that are correctly predicted.\n",
    "*F1-score*: A harmonic mean of precision and recall, which provides a balanced evaluation of model performance.\n",
    "\n",
    "Furthermore, Overall performance of the model can be evaluated with it's AUC-ROC score.\n",
    "\n",
    "**Reference:**\n",
    "> https://airclaim.com/10-most-common-causes-of-flight-delays\n",
    "\n",
    "> https://blog.tobiaszwingmann.com/p/evaluation-metrics-predictive-analytics\n",
    "\n",
    "\n",
    "\n"
   ]
  },
  {
   "cell_type": "markdown",
   "metadata": {},
   "source": [
    "### 3. Identify the type of ML problem you’re dealing with."
   ]
  },
  {
   "cell_type": "markdown",
   "metadata": {},
   "source": [
    "**Problem Identification:**\n",
    "There is availability of large dataset and our appointed task is to predict delay for certain condition in effect(weather condition favourable or not). With the factors given here, it would be treated as a supervised classification problem, specifically as binary classification. The goal of the model is to predict one of two classes, 'delayed' and 'not-delayed' (on-time), based on the provided features such as weather conditions and other relatable factors.\n"
   ]
  },
  {
   "cell_type": "markdown",
   "metadata": {},
   "source": [
    "### Setup\n",
    "\n",
    "Now that we have decided where to focus our energy, let's set things up so you can start working on solving the problem."
   ]
  },
  {
   "cell_type": "code",
   "execution_count": 1,
   "metadata": {},
   "outputs": [],
   "source": [
    "# Loading the necessary libraries or functions\n",
    "import os\n",
    "from pathlib import Path\n",
    "from zipfile import ZipFile\n",
    "import time\n",
    "\n",
    "import pandas as pd\n",
    "import numpy as np\n",
    "import subprocess\n",
    "\n",
    "import matplotlib.pyplot as plt\n",
    "import seaborn as sns\n",
    "\n",
    "sns.set()\n",
    "\n",
    "import warnings\n",
    "warnings.filterwarnings('ignore')\n",
    "\n",
    "%matplotlib inline\n",
    "\n",
    "from collections import Counter\n",
    "import webbrowser\n",
    "\n",
    "# <please add any other library or function you are aiming to import here>\n"
   ]
  },
  {
   "cell_type": "markdown",
   "metadata": {},
   "source": [
    "# Step 2: Data preprocessing and visualization  \n",
    "In this data preprocessing phase, you should take the opportunity to explore and visualize your data to better understand it. First, import the necessary libraries and read the data into a Pandas dataframe. After that, explore your data. Look for the shape of the dataset and explore your columns and the types of columns you're working with (numerical, categorical). Consider performing basic statistics on the features to get a sense of feature means and ranges. Take a close look at your target column and determine its distribution.\n",
    "\n",
    "### Specific questions to consider\n",
    "1. What can you deduce from the basic statistics you ran on the features? \n",
    "\n",
    "2. What can you deduce from the distributions of the target classes?\n",
    "\n",
    "3. Is there anything else you deduced from exploring the data?"
   ]
  },
  {
   "cell_type": "markdown",
   "metadata": {},
   "source": [
    "Start by bringing in the dataset from an Amazon S3 public bucket to this notebook environment."
   ]
  },
  {
   "cell_type": "code",
   "execution_count": 36,
   "metadata": {},
   "outputs": [
    {
     "name": "stderr",
     "output_type": "stream",
     "text": [
      "A subdirectory or file -p already exists.\n",
      "Error occurred while processing: -p.\n",
      "A subdirectory or file zip_data already exists.\n",
      "Error occurred while processing: zip_data.\n",
      "A subdirectory or file -p already exists.\n",
      "Error occurred while processing: -p.\n",
      "A subdirectory or file project_ADP_1 already exists.\n",
      "Error occurred while processing: project_ADP_1.\n",
      "A subdirectory or file -p already exists.\n",
      "Error occurred while processing: -p.\n",
      "A subdirectory or file csv_data already exists.\n",
      "Error occurred while processing: csv_data.\n"
     ]
    }
   ],
   "source": [
    "# download the files\n",
    "\n",
    "# <note: make them all relative, absolute path is not accepted>\n",
    "zip_path = Path('zip_data')\n",
    "base_path = Path('project_ADP_1')\n",
    "csv_base_path = Path('csv_data')\n",
    "\n",
    "!mkdir -p {zip_path}\n",
    "!mkdir -p {base_path}\n",
    "!mkdir -p {csv_base_path}\n"
   ]
  },
  {
   "cell_type": "code",
   "execution_count": 37,
   "metadata": {},
   "outputs": [],
   "source": [
    "# Dataset zip file('OneDrive_1_28-10-2024.zip') downloading and saving\n",
    "# Defining the path\n",
    "zip_file_download = Path('OneDrive_1_28-10-2024.zip')\n",
    "download_extract = Path('zip_data')\n",
    "\n",
    "# Creates extraction directory if it does not exist \n",
    "download_extract.mkdir(exist_ok=True)\n",
    "\n",
    "# Extracting all files in the 'zip_data' folder\n",
    "with ZipFile(zip_file_download, 'r') as zip_ref:\n",
    "    zip_ref.extractall(download_extract)\n",
    "\n"
   ]
  },
  {
   "cell_type": "code",
   "execution_count": 38,
   "metadata": {},
   "outputs": [
    {
     "name": "stdout",
     "output_type": "stream",
     "text": [
      "File types and their counts:\n",
      ".zip: 60\n"
     ]
    }
   ],
   "source": [
    "# Knowing how many zip files do we have? write a code to answer it.\n",
    "\n",
    "# Making a list of all files in the folder \n",
    "files_zip_data = [file for file in download_extract.iterdir() if file.is_file()]\n",
    "\n",
    "# Count of file extension (file type) and their count\n",
    "files_type = Counter(file.suffix for file in files_zip_data)\n",
    "\n",
    "# Showing the result\n",
    "print(\"File types and their counts:\")\n",
    "for files_type, count in files_type.items():\n",
    "    print(f\"{files_type}: {count}\")\n"
   ]
  },
  {
   "cell_type": "markdown",
   "metadata": {},
   "source": [
    "#### Extract CSV files from ZIP files"
   ]
  },
  {
   "cell_type": "code",
   "execution_count": 39,
   "metadata": {
    "scrolled": true
   },
   "outputs": [
    {
     "name": "stdout",
     "output_type": "stream",
     "text": [
      "Extracting On_Time_Reporting_Carrier_On_Time_Performance_1987_present_2014_1.zip\n",
      "Extracting On_Time_Reporting_Carrier_On_Time_Performance_1987_present_2014_10.zip\n",
      "Extracting On_Time_Reporting_Carrier_On_Time_Performance_1987_present_2014_11.zip\n",
      "Extracting On_Time_Reporting_Carrier_On_Time_Performance_1987_present_2014_12.zip\n",
      "Extracting On_Time_Reporting_Carrier_On_Time_Performance_1987_present_2014_2.zip\n",
      "Extracting On_Time_Reporting_Carrier_On_Time_Performance_1987_present_2014_3.zip\n",
      "Extracting On_Time_Reporting_Carrier_On_Time_Performance_1987_present_2014_4.zip\n",
      "Extracting On_Time_Reporting_Carrier_On_Time_Performance_1987_present_2014_5.zip\n",
      "Extracting On_Time_Reporting_Carrier_On_Time_Performance_1987_present_2014_6.zip\n",
      "Extracting On_Time_Reporting_Carrier_On_Time_Performance_1987_present_2014_7.zip\n",
      "Extracting On_Time_Reporting_Carrier_On_Time_Performance_1987_present_2014_8.zip\n",
      "Extracting On_Time_Reporting_Carrier_On_Time_Performance_1987_present_2014_9.zip\n",
      "Extracting On_Time_Reporting_Carrier_On_Time_Performance_1987_present_2015_1.zip\n",
      "Extracting On_Time_Reporting_Carrier_On_Time_Performance_1987_present_2015_10.zip\n",
      "Extracting On_Time_Reporting_Carrier_On_Time_Performance_1987_present_2015_11.zip\n",
      "Extracting On_Time_Reporting_Carrier_On_Time_Performance_1987_present_2015_12.zip\n",
      "Extracting On_Time_Reporting_Carrier_On_Time_Performance_1987_present_2015_2.zip\n",
      "Extracting On_Time_Reporting_Carrier_On_Time_Performance_1987_present_2015_3.zip\n",
      "Extracting On_Time_Reporting_Carrier_On_Time_Performance_1987_present_2015_4.zip\n",
      "Extracting On_Time_Reporting_Carrier_On_Time_Performance_1987_present_2015_5.zip\n",
      "Extracting On_Time_Reporting_Carrier_On_Time_Performance_1987_present_2015_6.zip\n",
      "Extracting On_Time_Reporting_Carrier_On_Time_Performance_1987_present_2015_7.zip\n",
      "Extracting On_Time_Reporting_Carrier_On_Time_Performance_1987_present_2015_8.zip\n",
      "Extracting On_Time_Reporting_Carrier_On_Time_Performance_1987_present_2015_9.zip\n",
      "Extracting On_Time_Reporting_Carrier_On_Time_Performance_1987_present_2016_1.zip\n",
      "Extracting On_Time_Reporting_Carrier_On_Time_Performance_1987_present_2016_10.zip\n",
      "Extracting On_Time_Reporting_Carrier_On_Time_Performance_1987_present_2016_11.zip\n",
      "Extracting On_Time_Reporting_Carrier_On_Time_Performance_1987_present_2016_12.zip\n",
      "Extracting On_Time_Reporting_Carrier_On_Time_Performance_1987_present_2016_2.zip\n",
      "Extracting On_Time_Reporting_Carrier_On_Time_Performance_1987_present_2016_3.zip\n",
      "Extracting On_Time_Reporting_Carrier_On_Time_Performance_1987_present_2016_4.zip\n",
      "Extracting On_Time_Reporting_Carrier_On_Time_Performance_1987_present_2016_5.zip\n",
      "Extracting On_Time_Reporting_Carrier_On_Time_Performance_1987_present_2016_6.zip\n",
      "Extracting On_Time_Reporting_Carrier_On_Time_Performance_1987_present_2016_7.zip\n",
      "Extracting On_Time_Reporting_Carrier_On_Time_Performance_1987_present_2016_8.zip\n",
      "Extracting On_Time_Reporting_Carrier_On_Time_Performance_1987_present_2016_9.zip\n",
      "Extracting On_Time_Reporting_Carrier_On_Time_Performance_1987_present_2017_1.zip\n",
      "Extracting On_Time_Reporting_Carrier_On_Time_Performance_1987_present_2017_10.zip\n",
      "Extracting On_Time_Reporting_Carrier_On_Time_Performance_1987_present_2017_11.zip\n",
      "Extracting On_Time_Reporting_Carrier_On_Time_Performance_1987_present_2017_12.zip\n",
      "Extracting On_Time_Reporting_Carrier_On_Time_Performance_1987_present_2017_2.zip\n",
      "Extracting On_Time_Reporting_Carrier_On_Time_Performance_1987_present_2017_3.zip\n",
      "Extracting On_Time_Reporting_Carrier_On_Time_Performance_1987_present_2017_4.zip\n",
      "Extracting On_Time_Reporting_Carrier_On_Time_Performance_1987_present_2017_5.zip\n",
      "Extracting On_Time_Reporting_Carrier_On_Time_Performance_1987_present_2017_6.zip\n",
      "Extracting On_Time_Reporting_Carrier_On_Time_Performance_1987_present_2017_7.zip\n",
      "Extracting On_Time_Reporting_Carrier_On_Time_Performance_1987_present_2017_8.zip\n",
      "Extracting On_Time_Reporting_Carrier_On_Time_Performance_1987_present_2017_9.zip\n",
      "Extracting On_Time_Reporting_Carrier_On_Time_Performance_1987_present_2018_1.zip\n",
      "Extracting On_Time_Reporting_Carrier_On_Time_Performance_1987_present_2018_10.zip\n",
      "Extracting On_Time_Reporting_Carrier_On_Time_Performance_1987_present_2018_11.zip\n",
      "Extracting On_Time_Reporting_Carrier_On_Time_Performance_1987_present_2018_12.zip\n",
      "Extracting On_Time_Reporting_Carrier_On_Time_Performance_1987_present_2018_2.zip\n",
      "Extracting On_Time_Reporting_Carrier_On_Time_Performance_1987_present_2018_3.zip\n",
      "Extracting On_Time_Reporting_Carrier_On_Time_Performance_1987_present_2018_4.zip\n",
      "Extracting On_Time_Reporting_Carrier_On_Time_Performance_1987_present_2018_5.zip\n",
      "Extracting On_Time_Reporting_Carrier_On_Time_Performance_1987_present_2018_6.zip\n",
      "Extracting On_Time_Reporting_Carrier_On_Time_Performance_1987_present_2018_7.zip\n",
      "Extracting On_Time_Reporting_Carrier_On_Time_Performance_1987_present_2018_8.zip\n",
      "Extracting On_Time_Reporting_Carrier_On_Time_Performance_1987_present_2018_9.zip\n",
      "All files extracted.\n"
     ]
    }
   ],
   "source": [
    "# defining the function to unzip\n",
    "def zip2csv(zip_file_name, file_path): \n",
    "    \"\"\"\n",
    "    Extracts CSV files from ZIP archives.\n",
    "    zip_file_name: name of the ZIP file\n",
    "    file_path: folder where extracted files will be stored\n",
    "    \"\"\"\n",
    "    try:\n",
    "        with ZipFile(zip_file_name, 'r') as z: \n",
    "            print(f'Extracting {zip_file_name.name}') \n",
    "            z.extractall(path=file_path) \n",
    "    except Exception as e:\n",
    "        print(f'zip2csv failed for {zip_file_name.name}: {e}')\n",
    "\n",
    "# Defining paths\n",
    "zip_data_path = Path('zip_data')      # Folder of ZIP files\n",
    "csv_base_path = Path('csv_data')      # Folder to store extracted files\n",
    "csv_base_path.mkdir(exist_ok=True)    # Creates csv_data folder if it doesn't exist\n",
    "\n",
    "# For extracting all ZIP files in the 'zip_data' folder\n",
    "for zip_file in zip_data_path.glob('*.zip'):\n",
    "    zip2csv(zip_file, csv_base_path)\n",
    "\n",
    "print(\"All files extracted.\")\n"
   ]
  },
  {
   "cell_type": "code",
   "execution_count": 40,
   "metadata": {},
   "outputs": [
    {
     "name": "stdout",
     "output_type": "stream",
     "text": [
      ".csv file count: 60\n"
     ]
    }
   ],
   "source": [
    "# How many csv files have we extracted? write a code to answer it.\n",
    "\n",
    "# Making list of all files in 'csv_data' folder\n",
    "csv_extracted = Path('csv_data')\n",
    "# List of items to get all files in the 'csv_data' folder\n",
    "files_csv_data = [file for file in csv_extracted.iterdir() if file.is_file() and file.suffix == '.csv']\n",
    "\n",
    "# Print the count of .csv files\n",
    "print(f\".csv file count: {len(files_csv_data)}\")\n"
   ]
  },
  {
   "cell_type": "markdown",
   "metadata": {},
   "source": [
    "Before loading the CSV file, read the HTML file from the extracted folder. This HTML file includes the background and more information on the features included in the dataset."
   ]
  },
  {
   "cell_type": "code",
   "execution_count": 41,
   "metadata": {},
   "outputs": [
    {
     "data": {
      "text/plain": [
       "True"
      ]
     },
     "execution_count": 41,
     "metadata": {},
     "output_type": "execute_result"
    }
   ],
   "source": [
    "from IPython.display import IFrame\n",
    "IFrame(src=os.path.relpath(f\"{csv_base_path}readme.html\"), width=300, height=200)\n",
    "\n",
    "# Other Option to look into the file\n",
    "# Specifying the location of 'readme.html'\n",
    "html_path = Path('csv_data/readme.html')\n",
    "# Opening the file\n",
    "webbrowser.open(html_path)\n"
   ]
  },
  {
   "cell_type": "markdown",
   "metadata": {},
   "source": [
    "#### Load sample CSV\n",
    "\n",
    "Before combining all the CSV files, get a sense of the data from a single CSV file. Using Pandas, read the `On_Time_Reporting_Carrier_On_Time_Performance_(1987_present)_2018_9.csv` file first. You can use the Python built-in `read_csv` function ([documentation](https://pandas.pydata.org/pandas-docs/stable/reference/api/pandas.read_csv.html))."
   ]
  },
  {
   "cell_type": "code",
   "execution_count": 42,
   "metadata": {},
   "outputs": [
    {
     "name": "stdout",
     "output_type": "stream",
     "text": [
      "First 5 Rows:\n",
      "   Year  Quarter  Month  DayofMonth  DayOfWeek  FlightDate Reporting_Airline  \\\n",
      "0  2018        3      9           3          1  2018-09-03                9E   \n",
      "1  2018        3      9           9          7  2018-09-09                9E   \n",
      "2  2018        3      9          10          1  2018-09-10                9E   \n",
      "3  2018        3      9          13          4  2018-09-13                9E   \n",
      "4  2018        3      9          14          5  2018-09-14                9E   \n",
      "\n",
      "   DOT_ID_Reporting_Airline IATA_CODE_Reporting_Airline Tail_Number  ...  \\\n",
      "0                     20363                          9E      N908XJ  ...   \n",
      "1                     20363                          9E      N315PQ  ...   \n",
      "2                     20363                          9E      N582CA  ...   \n",
      "3                     20363                          9E      N292PQ  ...   \n",
      "4                     20363                          9E      N600LR  ...   \n",
      "\n",
      "   Div4TailNum  Div5Airport  Div5AirportID  Div5AirportSeqID Div5WheelsOn  \\\n",
      "0          NaN          NaN            NaN               NaN          NaN   \n",
      "1          NaN          NaN            NaN               NaN          NaN   \n",
      "2          NaN          NaN            NaN               NaN          NaN   \n",
      "3          NaN          NaN            NaN               NaN          NaN   \n",
      "4          NaN          NaN            NaN               NaN          NaN   \n",
      "\n",
      "  Div5TotalGTime Div5LongestGTime  Div5WheelsOff Div5TailNum  Unnamed: 109  \n",
      "0            NaN              NaN            NaN         NaN           NaN  \n",
      "1            NaN              NaN            NaN         NaN           NaN  \n",
      "2            NaN              NaN            NaN         NaN           NaN  \n",
      "3            NaN              NaN            NaN         NaN           NaN  \n",
      "4            NaN              NaN            NaN         NaN           NaN  \n",
      "\n",
      "[5 rows x 110 columns]\n",
      "\n",
      "Statistical Summary:\n",
      "           Year   Quarter     Month     DayofMonth      DayOfWeek  \\\n",
      "count  585749.0  585749.0  585749.0  585749.000000  585749.000000   \n",
      "mean     2018.0       3.0       9.0      15.694279       4.074978   \n",
      "std         0.0       0.0       0.0       8.533025       2.028323   \n",
      "min      2018.0       3.0       9.0       1.000000       1.000000   \n",
      "25%      2018.0       3.0       9.0       8.000000       2.000000   \n",
      "50%      2018.0       3.0       9.0      16.000000       4.000000   \n",
      "75%      2018.0       3.0       9.0      23.000000       6.000000   \n",
      "max      2018.0       3.0       9.0      30.000000       7.000000   \n",
      "\n",
      "       DOT_ID_Reporting_Airline  Flight_Number_Reporting_Airline  \\\n",
      "count             585749.000000                    585749.000000   \n",
      "mean               19984.943155                      2842.553444   \n",
      "std                  373.160084                      1937.225474   \n",
      "min                19393.000000                         1.000000   \n",
      "25%                19790.000000                      1153.000000   \n",
      "50%                19977.000000                      2479.000000   \n",
      "75%                20368.000000                      4459.000000   \n",
      "max                20452.000000                      7439.000000   \n",
      "\n",
      "       OriginAirportID  OriginAirportSeqID  OriginCityMarketID  ...  \\\n",
      "count    585749.000000        5.857490e+05       585749.000000  ...   \n",
      "mean      12639.911853        1.263995e+06        31732.396421  ...   \n",
      "std        1518.658017        1.518656e+05         1293.586866  ...   \n",
      "min       10135.000000        1.013505e+06        30070.000000  ...   \n",
      "25%       11292.000000        1.129202e+06        30713.000000  ...   \n",
      "50%       12889.000000        1.288903e+06        31453.000000  ...   \n",
      "75%       13930.000000        1.393006e+06        32467.000000  ...   \n",
      "max       16218.000000        1.621801e+06        35991.000000  ...   \n",
      "\n",
      "       Div4TailNum  Div5Airport  Div5AirportID  Div5AirportSeqID  \\\n",
      "count          0.0          0.0            0.0               0.0   \n",
      "mean           NaN          NaN            NaN               NaN   \n",
      "std            NaN          NaN            NaN               NaN   \n",
      "min            NaN          NaN            NaN               NaN   \n",
      "25%            NaN          NaN            NaN               NaN   \n",
      "50%            NaN          NaN            NaN               NaN   \n",
      "75%            NaN          NaN            NaN               NaN   \n",
      "max            NaN          NaN            NaN               NaN   \n",
      "\n",
      "       Div5WheelsOn  Div5TotalGTime  Div5LongestGTime  Div5WheelsOff  \\\n",
      "count           0.0             0.0               0.0            0.0   \n",
      "mean            NaN             NaN               NaN            NaN   \n",
      "std             NaN             NaN               NaN            NaN   \n",
      "min             NaN             NaN               NaN            NaN   \n",
      "25%             NaN             NaN               NaN            NaN   \n",
      "50%             NaN             NaN               NaN            NaN   \n",
      "75%             NaN             NaN               NaN            NaN   \n",
      "max             NaN             NaN               NaN            NaN   \n",
      "\n",
      "       Div5TailNum  Unnamed: 109  \n",
      "count          0.0           0.0  \n",
      "mean           NaN           NaN  \n",
      "std            NaN           NaN  \n",
      "min            NaN           NaN  \n",
      "25%            NaN           NaN  \n",
      "50%            NaN           NaN  \n",
      "75%            NaN           NaN  \n",
      "max            NaN           NaN  \n",
      "\n",
      "[8 rows x 91 columns]\n",
      "\n",
      "Data types of each column:\n",
      "Year                  int64\n",
      "Quarter               int64\n",
      "Month                 int64\n",
      "DayofMonth            int64\n",
      "DayOfWeek             int64\n",
      "                     ...   \n",
      "Div5TotalGTime      float64\n",
      "Div5LongestGTime    float64\n",
      "Div5WheelsOff       float64\n",
      "Div5TailNum         float64\n",
      "Unnamed: 109        float64\n",
      "Length: 110, dtype: object\n",
      "\n",
      "Missing values count:\n",
      "Year                     0\n",
      "Quarter                  0\n",
      "Month                    0\n",
      "DayofMonth               0\n",
      "DayOfWeek                0\n",
      "                     ...  \n",
      "Div5TotalGTime      585749\n",
      "Div5LongestGTime    585749\n",
      "Div5WheelsOff       585749\n",
      "Div5TailNum         585749\n",
      "Unnamed: 109        585749\n",
      "Length: 110, dtype: int64\n",
      "\n",
      "Unique values count per column:\n",
      "Year                 1\n",
      "Quarter              1\n",
      "Month                1\n",
      "DayofMonth          30\n",
      "DayOfWeek            7\n",
      "                    ..\n",
      "Div5TotalGTime       0\n",
      "Div5LongestGTime     0\n",
      "Div5WheelsOff        0\n",
      "Div5TailNum          0\n",
      "Unnamed: 109         0\n",
      "Length: 110, dtype: int64\n"
     ]
    }
   ],
   "source": [
    "# Defining the path to the CSV file\n",
    "csv_file_path = Path('csv_data/On_Time_Reporting_Carrier_On_Time_Performance_(1987_present)_2018_9.csv')\n",
    "\n",
    "# Loading the CSV file into a DataFrame\n",
    "df = pd.read_csv(csv_file_path)\n",
    "\n",
    "# Display of the first 5 rows\n",
    "print(\"First 5 Rows:\")\n",
    "print(df.head())\n",
    "\n",
    "# Display of statistical summary of numerical columns\n",
    "print(\"\\nStatistical Summary:\")\n",
    "print(df.describe())\n",
    "\n",
    "# Display of data types of each variable\n",
    "print(\"\\nData types of each column:\")\n",
    "print(df.dtypes)\n",
    "\n",
    "# Display of counts of missing values in each column\n",
    "print(\"\\nMissing values count:\")\n",
    "print(df.isnull().sum())\n",
    "\n",
    "# Display of the count of unique values in each column\n",
    "print(\"\\nUnique values count per column:\")\n",
    "print(df.nunique())\n"
   ]
  },
  {
   "cell_type": "markdown",
   "metadata": {},
   "source": [
    "**Question**: Print the row and column length in the dataset, and print the column names."
   ]
  },
  {
   "cell_type": "code",
   "execution_count": 43,
   "metadata": {},
   "outputs": [
    {
     "name": "stdout",
     "output_type": "stream",
     "text": [
      "Number of rows: 585749\n",
      "Number of columns: 110\n",
      "\n",
      "Column Names:\n",
      "['Year', 'Quarter', 'Month', 'DayofMonth', 'DayOfWeek', 'FlightDate', 'Reporting_Airline', 'DOT_ID_Reporting_Airline', 'IATA_CODE_Reporting_Airline', 'Tail_Number', 'Flight_Number_Reporting_Airline', 'OriginAirportID', 'OriginAirportSeqID', 'OriginCityMarketID', 'Origin', 'OriginCityName', 'OriginState', 'OriginStateFips', 'OriginStateName', 'OriginWac', 'DestAirportID', 'DestAirportSeqID', 'DestCityMarketID', 'Dest', 'DestCityName', 'DestState', 'DestStateFips', 'DestStateName', 'DestWac', 'CRSDepTime', 'DepTime', 'DepDelay', 'DepDelayMinutes', 'DepDel15', 'DepartureDelayGroups', 'DepTimeBlk', 'TaxiOut', 'WheelsOff', 'WheelsOn', 'TaxiIn', 'CRSArrTime', 'ArrTime', 'ArrDelay', 'ArrDelayMinutes', 'ArrDel15', 'ArrivalDelayGroups', 'ArrTimeBlk', 'Cancelled', 'CancellationCode', 'Diverted', 'CRSElapsedTime', 'ActualElapsedTime', 'AirTime', 'Flights', 'Distance', 'DistanceGroup', 'CarrierDelay', 'WeatherDelay', 'NASDelay', 'SecurityDelay', 'LateAircraftDelay', 'FirstDepTime', 'TotalAddGTime', 'LongestAddGTime', 'DivAirportLandings', 'DivReachedDest', 'DivActualElapsedTime', 'DivArrDelay', 'DivDistance', 'Div1Airport', 'Div1AirportID', 'Div1AirportSeqID', 'Div1WheelsOn', 'Div1TotalGTime', 'Div1LongestGTime', 'Div1WheelsOff', 'Div1TailNum', 'Div2Airport', 'Div2AirportID', 'Div2AirportSeqID', 'Div2WheelsOn', 'Div2TotalGTime', 'Div2LongestGTime', 'Div2WheelsOff', 'Div2TailNum', 'Div3Airport', 'Div3AirportID', 'Div3AirportSeqID', 'Div3WheelsOn', 'Div3TotalGTime', 'Div3LongestGTime', 'Div3WheelsOff', 'Div3TailNum', 'Div4Airport', 'Div4AirportID', 'Div4AirportSeqID', 'Div4WheelsOn', 'Div4TotalGTime', 'Div4LongestGTime', 'Div4WheelsOff', 'Div4TailNum', 'Div5Airport', 'Div5AirportID', 'Div5AirportSeqID', 'Div5WheelsOn', 'Div5TotalGTime', 'Div5LongestGTime', 'Div5WheelsOff', 'Div5TailNum', 'Unnamed: 109']\n"
     ]
    }
   ],
   "source": [
    "# Showing the number of rows and columns\n",
    "print(f\"Number of rows: {df.shape[0]}\")\n",
    "print(f\"Number of columns: {df.shape[1]}\")\n",
    "\n",
    "# Showing the column names\n",
    "print(\"\\nColumn Names:\")\n",
    "print(df.columns.tolist())\n"
   ]
  },
  {
   "cell_type": "markdown",
   "metadata": {},
   "source": [
    "**Question**: Print the first 10 rows of the dataset.  "
   ]
  },
  {
   "cell_type": "code",
   "execution_count": 44,
   "metadata": {},
   "outputs": [
    {
     "name": "stdout",
     "output_type": "stream",
     "text": [
      "First 10 rows of the dataset:\n",
      "   Year  Quarter  Month  DayofMonth  DayOfWeek  FlightDate Reporting_Airline  \\\n",
      "0  2018        3      9           3          1  2018-09-03                9E   \n",
      "1  2018        3      9           9          7  2018-09-09                9E   \n",
      "2  2018        3      9          10          1  2018-09-10                9E   \n",
      "3  2018        3      9          13          4  2018-09-13                9E   \n",
      "4  2018        3      9          14          5  2018-09-14                9E   \n",
      "5  2018        3      9          16          7  2018-09-16                9E   \n",
      "6  2018        3      9          17          1  2018-09-17                9E   \n",
      "7  2018        3      9          20          4  2018-09-20                9E   \n",
      "8  2018        3      9          21          5  2018-09-21                9E   \n",
      "9  2018        3      9          23          7  2018-09-23                9E   \n",
      "\n",
      "   DOT_ID_Reporting_Airline IATA_CODE_Reporting_Airline Tail_Number  ...  \\\n",
      "0                     20363                          9E      N908XJ  ...   \n",
      "1                     20363                          9E      N315PQ  ...   \n",
      "2                     20363                          9E      N582CA  ...   \n",
      "3                     20363                          9E      N292PQ  ...   \n",
      "4                     20363                          9E      N600LR  ...   \n",
      "5                     20363                          9E      N316PQ  ...   \n",
      "6                     20363                          9E      N916XJ  ...   \n",
      "7                     20363                          9E      N371CA  ...   \n",
      "8                     20363                          9E      N601LR  ...   \n",
      "9                     20363                          9E      N906XJ  ...   \n",
      "\n",
      "   Div4TailNum  Div5Airport  Div5AirportID  Div5AirportSeqID Div5WheelsOn  \\\n",
      "0          NaN          NaN            NaN               NaN          NaN   \n",
      "1          NaN          NaN            NaN               NaN          NaN   \n",
      "2          NaN          NaN            NaN               NaN          NaN   \n",
      "3          NaN          NaN            NaN               NaN          NaN   \n",
      "4          NaN          NaN            NaN               NaN          NaN   \n",
      "5          NaN          NaN            NaN               NaN          NaN   \n",
      "6          NaN          NaN            NaN               NaN          NaN   \n",
      "7          NaN          NaN            NaN               NaN          NaN   \n",
      "8          NaN          NaN            NaN               NaN          NaN   \n",
      "9          NaN          NaN            NaN               NaN          NaN   \n",
      "\n",
      "  Div5TotalGTime Div5LongestGTime  Div5WheelsOff Div5TailNum  Unnamed: 109  \n",
      "0            NaN              NaN            NaN         NaN           NaN  \n",
      "1            NaN              NaN            NaN         NaN           NaN  \n",
      "2            NaN              NaN            NaN         NaN           NaN  \n",
      "3            NaN              NaN            NaN         NaN           NaN  \n",
      "4            NaN              NaN            NaN         NaN           NaN  \n",
      "5            NaN              NaN            NaN         NaN           NaN  \n",
      "6            NaN              NaN            NaN         NaN           NaN  \n",
      "7            NaN              NaN            NaN         NaN           NaN  \n",
      "8            NaN              NaN            NaN         NaN           NaN  \n",
      "9            NaN              NaN            NaN         NaN           NaN  \n",
      "\n",
      "[10 rows x 110 columns]\n"
     ]
    }
   ],
   "source": [
    "# Display of the first 10 rows of the dataset\n",
    "print(\"First 10 rows of the dataset:\")\n",
    "print(df.head(10))"
   ]
  },
  {
   "cell_type": "markdown",
   "metadata": {},
   "source": [
    "**Question**: Print all the columns in the dataset. Use `<dataframe>.columns` to view the column names."
   ]
  },
  {
   "cell_type": "code",
   "execution_count": 45,
   "metadata": {},
   "outputs": [
    {
     "name": "stdout",
     "output_type": "stream",
     "text": [
      "The column names are :\n",
      " #############\n",
      "Year\n",
      "Quarter\n",
      "Month\n",
      "DayofMonth\n",
      "DayOfWeek\n",
      "FlightDate\n",
      "Reporting_Airline\n",
      "DOT_ID_Reporting_Airline\n",
      "IATA_CODE_Reporting_Airline\n",
      "Tail_Number\n",
      "Flight_Number_Reporting_Airline\n",
      "OriginAirportID\n",
      "OriginAirportSeqID\n",
      "OriginCityMarketID\n",
      "Origin\n",
      "OriginCityName\n",
      "OriginState\n",
      "OriginStateFips\n",
      "OriginStateName\n",
      "OriginWac\n",
      "DestAirportID\n",
      "DestAirportSeqID\n",
      "DestCityMarketID\n",
      "Dest\n",
      "DestCityName\n",
      "DestState\n",
      "DestStateFips\n",
      "DestStateName\n",
      "DestWac\n",
      "CRSDepTime\n",
      "DepTime\n",
      "DepDelay\n",
      "DepDelayMinutes\n",
      "DepDel15\n",
      "DepartureDelayGroups\n",
      "DepTimeBlk\n",
      "TaxiOut\n",
      "WheelsOff\n",
      "WheelsOn\n",
      "TaxiIn\n",
      "CRSArrTime\n",
      "ArrTime\n",
      "ArrDelay\n",
      "ArrDelayMinutes\n",
      "ArrDel15\n",
      "ArrivalDelayGroups\n",
      "ArrTimeBlk\n",
      "Cancelled\n",
      "CancellationCode\n",
      "Diverted\n",
      "CRSElapsedTime\n",
      "ActualElapsedTime\n",
      "AirTime\n",
      "Flights\n",
      "Distance\n",
      "DistanceGroup\n",
      "CarrierDelay\n",
      "WeatherDelay\n",
      "NASDelay\n",
      "SecurityDelay\n",
      "LateAircraftDelay\n",
      "FirstDepTime\n",
      "TotalAddGTime\n",
      "LongestAddGTime\n",
      "DivAirportLandings\n",
      "DivReachedDest\n",
      "DivActualElapsedTime\n",
      "DivArrDelay\n",
      "DivDistance\n",
      "Div1Airport\n",
      "Div1AirportID\n",
      "Div1AirportSeqID\n",
      "Div1WheelsOn\n",
      "Div1TotalGTime\n",
      "Div1LongestGTime\n",
      "Div1WheelsOff\n",
      "Div1TailNum\n",
      "Div2Airport\n",
      "Div2AirportID\n",
      "Div2AirportSeqID\n",
      "Div2WheelsOn\n",
      "Div2TotalGTime\n",
      "Div2LongestGTime\n",
      "Div2WheelsOff\n",
      "Div2TailNum\n",
      "Div3Airport\n",
      "Div3AirportID\n",
      "Div3AirportSeqID\n",
      "Div3WheelsOn\n",
      "Div3TotalGTime\n",
      "Div3LongestGTime\n",
      "Div3WheelsOff\n",
      "Div3TailNum\n",
      "Div4Airport\n",
      "Div4AirportID\n",
      "Div4AirportSeqID\n",
      "Div4WheelsOn\n",
      "Div4TotalGTime\n",
      "Div4LongestGTime\n",
      "Div4WheelsOff\n",
      "Div4TailNum\n",
      "Div5Airport\n",
      "Div5AirportID\n",
      "Div5AirportSeqID\n",
      "Div5WheelsOn\n",
      "Div5TotalGTime\n",
      "Div5LongestGTime\n",
      "Div5WheelsOff\n",
      "Div5TailNum\n",
      "Unnamed: 109\n"
     ]
    }
   ],
   "source": [
    "print(f'The column names are :\\n #############')\n",
    "for col in df.columns:\n",
    "    print(col)"
   ]
  },
  {
   "cell_type": "markdown",
   "metadata": {},
   "source": [
    "**Question**: Print all the columns in the dataset that contain the word 'Del'. This will help you see how many columns have delay data in them.\n",
    "\n",
    "**Hint**: You can use a Python list comprehension to include values that pass certain `if` statement criteria.\n",
    "\n",
    "For example: `[x for x in [1,2,3,4,5] if x > 2]`  \n",
    "\n",
    "**Hint**: You can use the `in` keyword ([documentation](https://www.w3schools.com/python/ref_keyword_in.asp)) to check if the value is in a list or not. \n",
    "\n",
    "For example: `5 in [1,2,3,4,5]`"
   ]
  },
  {
   "cell_type": "code",
   "execution_count": 46,
   "metadata": {},
   "outputs": [
    {
     "name": "stdout",
     "output_type": "stream",
     "text": [
      "Columns containing 'Del':\n",
      "DepDelay, DepDelayMinutes, DepDel15, DepartureDelayGroups, ArrDelay, ArrDelayMinutes, ArrDel15, ArrivalDelayGroups, CarrierDelay, WeatherDelay, NASDelay, SecurityDelay, LateAircraftDelay, DivArrDelay\n",
      "Number of columns with 'Del': 14\n"
     ]
    }
   ],
   "source": [
    "# Making comprehensive list for fitering columns having 'Del'\n",
    "del_columns = [col for col in df.columns if 'Del' in col]\n",
    "\n",
    "# Showing the list of columns with 'Del'\n",
    "if del_columns:\n",
    "    print(\"Columns containing 'Del':\")\n",
    "    print(*del_columns, sep=\", \")\n",
    "else:\n",
    "    print(\"There is no columns with word 'Del'\")\n",
    "\n",
    "# Count the numbr of Del columns    \n",
    "print(f\"Number of columns with 'Del': {len(del_columns)}\")"
   ]
  },
  {
   "cell_type": "markdown",
   "metadata": {},
   "source": [
    "Here are some more questions to help you find out more about your dataset.\n",
    "\n",
    "**Questions**   \n",
    "1. How many rows and columns does the dataset have?   \n",
    "2. How many years are included in the dataset?   \n",
    "3. What is the date range for the dataset?   \n",
    "4. Which airlines are included in the dataset?   \n",
    "5. Which origin and destination airports are covered?"
   ]
  },
  {
   "cell_type": "code",
   "execution_count": 47,
   "metadata": {},
   "outputs": [
    {
     "name": "stdout",
     "output_type": "stream",
     "text": [
      "The #rows and #columns are  585749  and  110\n",
      "The years in this dataset are:  [2018]\n",
      "The months covered in this dataset are:  [9]\n",
      "The date range for data is : 2018-09-01  to  2018-09-30\n",
      "The airlines covered in this dataset are:  ['9E', 'B6', 'WN', 'YV', 'YX', 'EV', 'AA', 'AS', 'DL', 'HA', 'UA', 'F9', 'G4', 'MQ', 'NK', 'OH', 'OO']\n",
      "The Origin airports covered are:  ['DFW', 'LGA', 'MSN', 'MSP', 'ATL', 'BDL', 'VLD', 'JFK', 'RDU', 'CHS', 'DTW', 'GRB', 'PVD', 'SHV', 'FNT', 'PIT', 'RIC', 'RST', 'RSW', 'CVG', 'LIT', 'ORD', 'JAX', 'TRI', 'BOS', 'CWA', 'DCA', 'CHO', 'AVP', 'IND', 'GRR', 'BTR', 'MEM', 'TUL', 'CLE', 'STL', 'BTV', 'OMA', 'MGM', 'TVC', 'SAV', 'GSP', 'EWR', 'OAJ', 'BNA', 'MCI', 'TLH', 'ROC', 'LEX', 'PWM', 'BUF', 'AGS', 'CLT', 'GSO', 'BWI', 'SAT', 'PHL', 'TYS', 'ACK', 'DSM', 'GNV', 'AVL', 'BGR', 'MHT', 'ILM', 'MOT', 'IAH', 'SBN', 'SYR', 'ORF', 'MKE', 'XNA', 'MSY', 'PBI', 'ABE', 'HPN', 'EVV', 'ALB', 'LNK', 'AUS', 'PHF', 'CHA', 'GTR', 'BMI', 'BQK', 'CID', 'CAK', 'ATW', 'ABY', 'CAE', 'SRQ', 'MLI', 'BHM', 'IAD', 'CSG', 'CMH', 'MCO', 'MBS', 'FLL', 'SDF', 'TPA', 'MVY', 'LAS', 'LGB', 'SFO', 'SAN', 'LAX', 'RNO', 'PDX', 'ANC', 'ABQ', 'SLC', 'DEN', 'PHX', 'OAK', 'SMF', 'SJU', 'SEA', 'HOU', 'STX', 'BUR', 'SWF', 'SJC', 'DAB', 'BQN', 'PSE', 'ORH', 'HYA', 'STT', 'ONT', 'HRL', 'ICT', 'ISP', 'LBB', 'MAF', 'MDW', 'OKC', 'PNS', 'SNA', 'TUS', 'AMA', 'BOI', 'CRP', 'DAL', 'ECP', 'ELP', 'GEG', 'LFT', 'MFE', 'MDT', 'JAN', 'COS', 'MOB', 'VPS', 'MTJ', 'DRO', 'GPT', 'BFL', 'MRY', 'SBA', 'PSP', 'FSD', 'BRO', 'RAP', 'COU', 'STS', 'PIA', 'FAT', 'SBP', 'FSM', 'HSV', 'BIS', 'DAY', 'BZN', 'MIA', 'EYW', 'MYR', 'HHH', 'GJT', 'FAR', 'SGF', 'HOB', 'CLL', 'LRD', 'AEX', 'ERI', 'MLU', 'LCH', 'ROA', 'LAW', 'MHK', 'GRK', 'SAF', 'GRI', 'JLN', 'ROW', 'FWA', 'CRW', 'LAN', 'OGG', 'HNL', 'KOA', 'EGE', 'LIH', 'MLB', 'JAC', 'FAI', 'RDM', 'ADQ', 'BET', 'BRW', 'SCC', 'KTN', 'YAK', 'CDV', 'JNU', 'SIT', 'PSG', 'WRG', 'OME', 'OTZ', 'ADK', 'FCA', 'FAY', 'PSC', 'BIL', 'MSO', 'ITO', 'PPG', 'MFR', 'EUG', 'GUM', 'SPN', 'DLH', 'TTN', 'BKG', 'SFB', 'PIE', 'PGD', 'AZA', 'SMX', 'RFD', 'SCK', 'OWB', 'HTS', 'BLV', 'IAG', 'USA', 'GFK', 'BLI', 'ELM', 'PBG', 'LCK', 'GTF', 'OGD', 'IDA', 'PVU', 'TOL', 'PSM', 'CKB', 'HGR', 'SPI', 'STC', 'ACT', 'TYR', 'ABI', 'AZO', 'CMI', 'BPT', 'GCK', 'MQT', 'ALO', 'TXK', 'SPS', 'SWO', 'DBQ', 'SUX', 'SJT', 'GGG', 'LSE', 'LBE', 'ACY', 'LYH', 'PGV', 'HVN', 'EWN', 'DHN', 'PIH', 'IMT', 'WYS', 'CPR', 'SCE', 'HLN', 'SUN', 'ISN', 'CMX', 'EAU', 'LWB', 'SHD', 'LBF', 'HYS', 'SLN', 'EAR', 'VEL', 'CNY', 'GCC', 'RKS', 'PUB', 'LBL', 'MKG', 'PAH', 'CGI', 'UIN', 'BFF', 'DVL', 'JMS', 'LAR', 'SGU', 'PRC', 'ASE', 'RDD', 'ACV', 'OTH', 'COD', 'LWS', 'ABR', 'APN', 'ESC', 'PLN', 'BJI', 'BRD', 'BTM', 'CDC', 'CIU', 'EKO', 'TWF', 'HIB', 'BGM', 'RHI', 'ITH', 'INL', 'FLG', 'YUM', 'MEI', 'PIB', 'HDN']\n",
      "The Destination airports covered are:  ['CVG', 'PWM', 'RDU', 'MSP', 'MSN', 'SHV', 'CLT', 'PIT', 'RIC', 'IAH', 'ATL', 'JFK', 'DCA', 'DTW', 'LGA', 'TYS', 'PVD', 'FNT', 'LIT', 'BUF', 'ORD', 'TRI', 'IND', 'BGR', 'AVP', 'BWI', 'LEX', 'BDL', 'GRR', 'CWA', 'TUL', 'MEM', 'AGS', 'EWR', 'MGM', 'PHL', 'SYR', 'OMA', 'STL', 'TVC', 'ORF', 'CLE', 'ABY', 'BOS', 'OAJ', 'TLH', 'BTR', 'SAT', 'JAX', 'BNA', 'CHO', 'VLD', 'ROC', 'DFW', 'GNV', 'ACK', 'PBI', 'CHS', 'GRB', 'MOT', 'MKE', 'DSM', 'ILM', 'GSO', 'MCI', 'SBN', 'BTV', 'MVY', 'XNA', 'RST', 'EVV', 'HPN', 'RSW', 'MDT', 'ROA', 'GSP', 'MCO', 'CSG', 'SAV', 'PHF', 'ALB', 'CHA', 'ABE', 'BMI', 'MSY', 'IAD', 'GTR', 'CID', 'CAK', 'ATW', 'AUS', 'BQK', 'MLI', 'CAE', 'CMH', 'AVL', 'MBS', 'FLL', 'SDF', 'TPA', 'LNK', 'SRQ', 'MHT', 'BHM', 'LAS', 'SFO', 'SAN', 'RNO', 'LGB', 'ANC', 'PDX', 'SJU', 'ABQ', 'SLC', 'DEN', 'LAX', 'PHX', 'OAK', 'SMF', 'SEA', 'STX', 'BUR', 'DAB', 'SJC', 'SWF', 'HOU', 'BQN', 'PSE', 'ORH', 'HYA', 'STT', 'ONT', 'DAL', 'ECP', 'ELP', 'HRL', 'MAF', 'MDW', 'OKC', 'PNS', 'SNA', 'AMA', 'BOI', 'GEG', 'ICT', 'LBB', 'TUS', 'ISP', 'CRP', 'MFE', 'LFT', 'VPS', 'JAN', 'COS', 'MOB', 'DRO', 'GPT', 'BFL', 'COU', 'SBP', 'MTJ', 'SBA', 'PSP', 'FSD', 'FSM', 'BRO', 'PIA', 'STS', 'FAT', 'RAP', 'MRY', 'HSV', 'BIS', 'DAY', 'BZN', 'MIA', 'EYW', 'MYR', 'HHH', 'GJT', 'FAR', 'MLU', 'LRD', 'CLL', 'LCH', 'FWA', 'GRK', 'SGF', 'HOB', 'LAW', 'MHK', 'SAF', 'JLN', 'ROW', 'GRI', 'AEX', 'CRW', 'LAN', 'ERI', 'HNL', 'KOA', 'OGG', 'EGE', 'LIH', 'JAC', 'MLB', 'RDM', 'BET', 'ADQ', 'BRW', 'SCC', 'FAI', 'JNU', 'CDV', 'YAK', 'SIT', 'KTN', 'WRG', 'PSG', 'OME', 'OTZ', 'ADK', 'FCA', 'BIL', 'PSC', 'FAY', 'MSO', 'ITO', 'PPG', 'MFR', 'DLH', 'EUG', 'GUM', 'SPN', 'TTN', 'BKG', 'AZA', 'SFB', 'LCK', 'BLI', 'SCK', 'PIE', 'RFD', 'PVU', 'PBG', 'BLV', 'PGD', 'SPI', 'USA', 'TOL', 'IDA', 'ELM', 'HTS', 'HGR', 'SMX', 'OGD', 'GFK', 'STC', 'GTF', 'IAG', 'CKB', 'OWB', 'PSM', 'ABI', 'TYR', 'ALO', 'SUX', 'AZO', 'ACT', 'CMI', 'BPT', 'TXK', 'SWO', 'SPS', 'DBQ', 'SJT', 'GGG', 'LSE', 'MQT', 'GCK', 'LBE', 'ACY', 'LYH', 'PGV', 'HVN', 'EWN', 'DHN', 'PIH', 'WYS', 'SCE', 'IMT', 'HLN', 'ASE', 'SUN', 'ISN', 'EAR', 'SGU', 'VEL', 'SHD', 'LWB', 'MKG', 'SLN', 'HYS', 'BFF', 'PUB', 'LBL', 'CMX', 'EAU', 'PAH', 'UIN', 'RKS', 'CGI', 'CNY', 'JMS', 'DVL', 'LAR', 'GCC', 'LBF', 'PRC', 'RDD', 'ACV', 'OTH', 'COD', 'LWS', 'ABR', 'APN', 'PLN', 'BJI', 'CPR', 'BRD', 'BTM', 'CDC', 'CIU', 'ESC', 'EKO', 'ITH', 'HIB', 'BGM', 'TWF', 'RHI', 'INL', 'FLG', 'YUM', 'MEI', 'PIB', 'HDN']\n"
     ]
    }
   ],
   "source": [
    "# Answer of the above questions\n",
    "print(\"The #rows and #columns are \", df.shape[0] , \" and \", df.shape[1])\n",
    "print(\"The years in this dataset are: \", df['Year'].unique())\n",
    "print(\"The months covered in this dataset are: \", df['Month'].unique())\n",
    "print(\"The date range for data is :\" , min(df['FlightDate']), \" to \", max(df['FlightDate']))\n",
    "print(\"The airlines covered in this dataset are: \", list(df['Reporting_Airline'].unique()))\n",
    "print(\"The Origin airports covered are: \", list(df['Origin'].unique()))\n",
    "print(\"The Destination airports covered are: \", list(df['Dest'].unique()))"
   ]
  },
  {
   "cell_type": "markdown",
   "metadata": {},
   "source": [
    "**Question**: What is the count of all the origin and destination airports?\n",
    "\n",
    "**Hint**: You can use the Pandas `values_count` function ([documentation](https://pandas.pydata.org/pandas-docs/stable/reference/api/pandas.Series.value_counts.html)) to find out the values for each airport using the columns `Origin` and `Dest`."
   ]
  },
  {
   "cell_type": "code",
   "execution_count": 48,
   "metadata": {},
   "outputs": [
    {
     "data": {
      "text/html": [
       "<div>\n",
       "<style scoped>\n",
       "    .dataframe tbody tr th:only-of-type {\n",
       "        vertical-align: middle;\n",
       "    }\n",
       "\n",
       "    .dataframe tbody tr th {\n",
       "        vertical-align: top;\n",
       "    }\n",
       "\n",
       "    .dataframe thead th {\n",
       "        text-align: right;\n",
       "    }\n",
       "</style>\n",
       "<table border=\"1\" class=\"dataframe\">\n",
       "  <thead>\n",
       "    <tr style=\"text-align: right;\">\n",
       "      <th></th>\n",
       "      <th>Origin</th>\n",
       "      <th>Destination</th>\n",
       "    </tr>\n",
       "  </thead>\n",
       "  <tbody>\n",
       "    <tr>\n",
       "      <th>ABE</th>\n",
       "      <td>303</td>\n",
       "      <td>303</td>\n",
       "    </tr>\n",
       "    <tr>\n",
       "      <th>ABI</th>\n",
       "      <td>169</td>\n",
       "      <td>169</td>\n",
       "    </tr>\n",
       "    <tr>\n",
       "      <th>ABQ</th>\n",
       "      <td>2077</td>\n",
       "      <td>2076</td>\n",
       "    </tr>\n",
       "    <tr>\n",
       "      <th>ABR</th>\n",
       "      <td>60</td>\n",
       "      <td>60</td>\n",
       "    </tr>\n",
       "    <tr>\n",
       "      <th>ABY</th>\n",
       "      <td>79</td>\n",
       "      <td>79</td>\n",
       "    </tr>\n",
       "    <tr>\n",
       "      <th>...</th>\n",
       "      <td>...</td>\n",
       "      <td>...</td>\n",
       "    </tr>\n",
       "    <tr>\n",
       "      <th>WRG</th>\n",
       "      <td>60</td>\n",
       "      <td>60</td>\n",
       "    </tr>\n",
       "    <tr>\n",
       "      <th>WYS</th>\n",
       "      <td>52</td>\n",
       "      <td>52</td>\n",
       "    </tr>\n",
       "    <tr>\n",
       "      <th>XNA</th>\n",
       "      <td>1004</td>\n",
       "      <td>1004</td>\n",
       "    </tr>\n",
       "    <tr>\n",
       "      <th>YAK</th>\n",
       "      <td>60</td>\n",
       "      <td>60</td>\n",
       "    </tr>\n",
       "    <tr>\n",
       "      <th>YUM</th>\n",
       "      <td>96</td>\n",
       "      <td>96</td>\n",
       "    </tr>\n",
       "  </tbody>\n",
       "</table>\n",
       "<p>346 rows × 2 columns</p>\n",
       "</div>"
      ],
      "text/plain": [
       "     Origin  Destination\n",
       "ABE     303          303\n",
       "ABI     169          169\n",
       "ABQ    2077         2076\n",
       "ABR      60           60\n",
       "ABY      79           79\n",
       "..      ...          ...\n",
       "WRG      60           60\n",
       "WYS      52           52\n",
       "XNA    1004         1004\n",
       "YAK      60           60\n",
       "YUM      96           96\n",
       "\n",
       "[346 rows x 2 columns]"
      ]
     },
     "execution_count": 48,
     "metadata": {},
     "output_type": "execute_result"
    }
   ],
   "source": [
    "# Getting the count of all unique 'Origin' and 'Dest'\n",
    "origin_counts = df['Origin'].value_counts()\n",
    "dest_counts = df['Dest'].value_counts()\n",
    "\n",
    "# Creating a DataFrame to show the results\n",
    "counts_df = pd.DataFrame({'Origin': origin_counts, 'Destination': dest_counts})\n",
    "\n",
    "counts_df"
   ]
  },
  {
   "cell_type": "markdown",
   "metadata": {},
   "source": [
    "**Question**: Print the top 15 origin and destination airports based on number of flights in the dataset.\n",
    "\n",
    "**Hint**: You can use the Pandas `sort_values` function ([documentation](https://pandas.pydata.org/pandas-docs/stable/reference/api/pandas.DataFrame.sort_values.html))."
   ]
  },
  {
   "cell_type": "code",
   "execution_count": 49,
   "metadata": {},
   "outputs": [
    {
     "name": "stdout",
     "output_type": "stream",
     "text": [
      "   Origin  Count\n",
      "0     ATL  31525\n",
      "1     ORD  28257\n",
      "2     DFW  22802\n",
      "3     DEN  19807\n",
      "4     CLT  19655\n",
      "5     LAX  17875\n",
      "6     SFO  14332\n",
      "7     IAH  14210\n",
      "8     LGA  13850\n",
      "9     MSP  13349\n",
      "10    LAS  13318\n",
      "11    PHX  13126\n",
      "12    DTW  12725\n",
      "13    BOS  12223\n",
      "14    SEA  11872\n",
      "   Destination  Count\n",
      "0          ATL  31521\n",
      "1          ORD  28250\n",
      "2          DFW  22795\n",
      "3          DEN  19807\n",
      "4          CLT  19654\n",
      "5          LAX  17873\n",
      "6          SFO  14348\n",
      "7          IAH  14203\n",
      "8          LGA  13850\n",
      "9          MSP  13347\n",
      "10         LAS  13322\n",
      "11         PHX  13128\n",
      "12         DTW  12724\n",
      "13         BOS  12227\n",
      "14         SEA  11877\n"
     ]
    }
   ],
   "source": [
    "# Count of unique origins and destinations\n",
    "\n",
    "origin_counts = df['Origin'].value_counts().reset_index()\n",
    "origin_counts.columns = ['Origin', 'Count']\n",
    "\n",
    "dest_counts = df['Dest'].value_counts().reset_index()\n",
    "dest_counts.columns = ['Destination', 'Count']\n",
    "\n",
    "# Sorting and display of top 15 origins and dest\n",
    "top_15_origins = origin_counts.sort_values(by='Count', ascending=False).head(15)\n",
    "print(top_15_origins)\n",
    "\n",
    "top_15_destinations = dest_counts.sort_values(by='Count', ascending=False).head(15)\n",
    "print(top_15_destinations)"
   ]
  },
  {
   "cell_type": "markdown",
   "metadata": {},
   "source": [
    "**Question**: Given all the information about a flight trip, can you predict if it would be delayed?"
   ]
  },
  {
   "cell_type": "markdown",
   "metadata": {},
   "source": [
    "**Predicting ArrDelay:**\n",
    "\n",
    "It is possible to predict arrival delay using information on Origin, Destination, Reporting_Airlines and other relatable factors. By analyzing historical data, it is possible to identify patterns and correlations between these factors and arrival delays. Machine learning models(classification models) can learn from this data and make predictions for arrival delay for new flights."
   ]
  },
  {
   "cell_type": "markdown",
   "metadata": {},
   "source": [
    "Now, assume you are traveling from San Francisco to Los Angeles on a work trip. You want to have an ideas if your flight will be delayed, given a set of features, so that you can manage your reservations in Los Angeles better. How many features from this dataset would you know before your flight?\n",
    "\n",
    "Columns such as `DepDelay`, `ArrDelay`, `CarrierDelay`, `WeatherDelay`, `NASDelay`, `SecurityDelay`, `LateAircraftDelay`, and `DivArrDelay` contain information about a delay. But this delay could have occured at the origin or destination. If there were a sudden weather delay 10 minutes before landing, this data would not be helpful in managing your Los Angeles reservations.\n",
    "\n",
    "So to simplify the problem statement, consider the following columns to predict an arrival delay:<br>\n",
    "\n",
    "`Year`, `Quarter`, `Month`, `DayofMonth`, `DayOfWeek`, `FlightDate`, `Reporting_Airline`, `Origin`, `OriginState`, `Dest`, `DestState`, `CRSDepTime`, `DepDelayMinutes`, `DepartureDelayGroups`, `Cancelled`, `Diverted`, `Distance`, `DistanceGroup`, `ArrDelay`, `ArrDelayMinutes`, `ArrDel15`, `AirTime`\n",
    "\n",
    "You will also filter the source and destination airports to be:\n",
    "- Top airports: ATL, ORD, DFW, DEN, CLT, LAX, IAH, PHX, SFO\n",
    "- Top 5 airlines: UA, OO, WN, AA, DL\n",
    "\n",
    "This should help in reducing the size of data across the CSV files to be combined."
   ]
  },
  {
   "cell_type": "markdown",
   "metadata": {},
   "source": [
    "#### Combine all CSV files\n",
    "\n",
    "**Hint**:  \n",
    "First, create an empy dataframe that you will use to copy your individual dataframes from each file. Then, for each file in the `csv_files` list:\n",
    "\n",
    "1. Read the CSV file into a dataframe  \n",
    "2. Filter the columns based on the `filter_cols` variable\n",
    "\n",
    "```\n",
    "        columns = ['col1', 'col2']\n",
    "        df_filter = df[columns]\n",
    "```\n",
    "\n",
    "3. Keep only the subset_vals in each of the subset_cols. Use the `isin` Pandas function ([documentation](https://pandas.pydata.org/pandas-docs/stable/reference/api/pandas.DataFrame.isin.html)) to check if the `val` is in the dataframe column and then choose the rows that include it.\n",
    "\n",
    "```\n",
    "        df_eg[df_eg['col1'].isin('5')]\n",
    "```\n",
    "\n",
    "4. Concatenate the dataframe with the empty dataframe "
   ]
  },
  {
   "cell_type": "code",
   "execution_count": 50,
   "metadata": {},
   "outputs": [
    {
     "name": "stdout",
     "output_type": "stream",
     "text": [
      "All CSV files have been combined.\n",
      "Combined dataset shape: (1658130, 20)\n"
     ]
    }
   ],
   "source": [
    "# Defining the columns to keep\n",
    "# Filtering all the columns mentioned above\n",
    "filter_cols = ['Year','Quarter','Month','DayofMonth','DayOfWeek','FlightDate',\n",
    "        'Reporting_Airline','Origin','OriginState','Dest','DestState',\n",
    "        'CRSDepTime','Cancelled','Diverted','Distance','DistanceGroup',\n",
    "        'ArrDelay','ArrDelayMinutes','ArrDel15','AirTime']\n",
    "\n",
    "\n",
    "# Defining top airports and airlines\n",
    "top_airports = ['ATL', 'ORD', 'DFW', 'DEN', 'CLT', 'LAX', 'IAH', 'PHX', 'SFO']\n",
    "top_airlines = ['UA', 'OO', 'WN', 'AA', 'DL']\n",
    "\n",
    "# Creating an empty DataFrame to store combined data\n",
    "combined_df = pd.DataFrame(columns=filter_cols)\n",
    "\n",
    "# Defining the path to the CSV files\n",
    "csv_folder = Path('csv_data')\n",
    "csv_files = csv_folder.glob('*.csv')  # List of all CSV files in the folder\n",
    "\n",
    "# TO process through all CSV file\n",
    "for file in csv_files:\n",
    "    # Reading the CSV file\n",
    "    df = pd.read_csv(file)\n",
    "    \n",
    "    # Filtering columns\n",
    "    df_filtered = df[filter_cols]\n",
    "    \n",
    "    # Filtering of rows based on top airports and top airlines\n",
    "    df_filtered = df_filtered[\n",
    "        (df_filtered['Origin'].isin(top_airports)) &\n",
    "        (df_filtered['Dest'].isin(top_airports)) &\n",
    "        (df_filtered['Reporting_Airline'].isin(top_airlines))\n",
    "    ]\n",
    "    \n",
    "    # Concatenation with the combined DataFrame\n",
    "    combined_df = pd.concat([combined_df, df_filtered], ignore_index=True)\n",
    "\n",
    "print(\"All CSV files have been combined.\")\n",
    "print(f\"Combined dataset shape: {combined_df.shape}\")\n"
   ]
  },
  {
   "cell_type": "code",
   "execution_count": null,
   "metadata": {},
   "outputs": [],
   "source": [
    "#cols is the list of columns to predict Arrival Delay \n",
    "cols = ['Year','Quarter','Month','DayofMonth','DayOfWeek','FlightDate',\n",
    "        'Reporting_Airline','Origin','OriginState','Dest','DestState',\n",
    "        'CRSDepTime','Cancelled','Diverted','Distance','DistanceGroup',\n",
    "        'ArrDelay','ArrDelayMinutes','ArrDel15','AirTime']\n",
    "\n",
    "subset_cols = ['Origin', 'Dest', 'Reporting_Airline']\n",
    "\n",
    "# subset_vals is a list collection of the top origin and destination airports and top 5 airlines\n",
    "subset_vals = [['ATL', 'ORD', 'DFW', 'DEN', 'CLT', 'LAX', 'IAH', 'PHX', 'SFO'], \n",
    "               ['ATL', 'ORD', 'DFW', 'DEN', 'CLT', 'LAX', 'IAH', 'PHX', 'SFO'], \n",
    "               ['UA', 'OO', 'WN', 'AA', 'DL']]"
   ]
  },
  {
   "cell_type": "markdown",
   "metadata": {},
   "source": [
    "Use the function above to merge all the different files into a single file that you can read easily. \n",
    "\n",
    "**Note**: This will take 5-7 minutes to complete."
   ]
  },
  {
   "cell_type": "code",
   "execution_count": null,
   "metadata": {},
   "outputs": [
    {
     "name": "stdout",
     "output_type": "stream",
     "text": [
      "csv's merged in 0.0 minutes\n"
     ]
    }
   ],
   "source": [
    "start = time.time()\n",
    "\n",
    "combined_csv_filename = f\"{base_path}combined_df.csv\"\n",
    "\n",
    "# To call the combined_data.csv \n",
    "\n",
    "print(f'csv\\'s merged in {round((time.time() - start)/60,2)} minutes')\n",
    "\n",
    "# Optionally\n",
    "# Saving Combined_df\n",
    "combined_df.to_csv('combined_data.csv', index=False)"
   ]
  },
  {
   "cell_type": "markdown",
   "metadata": {},
   "source": [
    "#### Load dataset\n",
    "\n",
    "Load the combined dataset."
   ]
  },
  {
   "cell_type": "code",
   "execution_count": 52,
   "metadata": {},
   "outputs": [],
   "source": [
    "# Reading the required 'combined_data.csv'\n",
    "data = pd.read_csv(\"combined_data.csv\")"
   ]
  },
  {
   "cell_type": "markdown",
   "metadata": {},
   "source": [
    "Print the first 5 records."
   ]
  },
  {
   "cell_type": "code",
   "execution_count": 53,
   "metadata": {},
   "outputs": [
    {
     "name": "stdout",
     "output_type": "stream",
     "text": [
      "   Year  Quarter  Month  DayofMonth  DayOfWeek  FlightDate Reporting_Airline  \\\n",
      "0  2014        1      1          26          7  2014-01-26                DL   \n",
      "1  2014        1      1          26          7  2014-01-26                DL   \n",
      "2  2014        1      1          26          7  2014-01-26                DL   \n",
      "3  2014        1      1          26          7  2014-01-26                DL   \n",
      "4  2014        1      1          26          7  2014-01-26                DL   \n",
      "\n",
      "  Origin OriginState Dest DestState  CRSDepTime  Cancelled  Diverted  \\\n",
      "0    ATL          GA  IAH        TX        2145        0.0       0.0   \n",
      "1    DFW          TX  ATL        GA         945        0.0       0.0   \n",
      "2    ATL          GA  DEN        CO        1855        0.0       0.0   \n",
      "3    ATL          GA  PHX        AZ        1634        0.0       0.0   \n",
      "4    PHX          AZ  ATL        GA         700        0.0       0.0   \n",
      "\n",
      "   Distance  DistanceGroup  ArrDelay  ArrDelayMinutes  ArrDel15  AirTime  \n",
      "0     689.0              3     -20.0              0.0       0.0     99.0  \n",
      "1     731.0              3      -3.0              0.0       0.0     98.0  \n",
      "2    1199.0              5      -7.0              0.0       0.0    174.0  \n",
      "3    1587.0              7      -4.0              0.0       0.0    233.0  \n",
      "4    1587.0              7     -13.0              0.0       0.0    179.0  \n"
     ]
    }
   ],
   "source": [
    "# Showing first 5 records\n",
    "print(data.head(5))"
   ]
  },
  {
   "cell_type": "markdown",
   "metadata": {},
   "source": [
    "Here are some more questions to help you find out more about your dataset.\n",
    "\n",
    "**Questions**   \n",
    "1. How many rows and columns does the dataset have?   \n",
    "2. How many years are included in the dataset?   \n",
    "3. What is the date range for the dataset?   \n",
    "4. Which airlines are included in the dataset?   \n",
    "5. Which origin and destination airports are covered?"
   ]
  },
  {
   "cell_type": "code",
   "execution_count": 54,
   "metadata": {},
   "outputs": [
    {
     "name": "stdout",
     "output_type": "stream",
     "text": [
      "The #rows and #columns are  1658130  and  20\n",
      "The years in this dataset are:  [np.int64(2014), np.int64(2015), np.int64(2016), np.int64(2017), np.int64(2018)]\n",
      "The months covered in this dataset are:  [np.int64(1), np.int64(2), np.int64(3), np.int64(4), np.int64(5), np.int64(6), np.int64(7), np.int64(8), np.int64(9), np.int64(10), np.int64(11), np.int64(12)]\n",
      "The date range for data is : 2014-01-01  to  2018-12-31\n",
      "The airlines covered in this dataset are:  ['DL', 'OO', 'WN', 'UA', 'AA']\n",
      "The Origin airports covered are:  ['ATL', 'DFW', 'PHX', 'DEN', 'IAH', 'CLT', 'SFO', 'LAX', 'ORD']\n",
      "The Destination airports covered are:  ['IAH', 'ATL', 'DEN', 'PHX', 'CLT', 'LAX', 'DFW', 'SFO', 'ORD']\n"
     ]
    }
   ],
   "source": [
    "# to answer above questions, complete the following code\n",
    "print(\"The #rows and #columns are \", data.shape[0] , \" and \", data.shape[1])\n",
    "print(\"The years in this dataset are: \", list(data[\"Year\"].unique()))\n",
    "print(\"The months covered in this dataset are: \", sorted(list(data[\"Month\"].unique())))\n",
    "print(\"The date range for data is :\" , min(data[\"FlightDate\"]), \" to \", max(data[\"FlightDate\"]))\n",
    "print(\"The airlines covered in this dataset are: \", list(data[\"Reporting_Airline\"].unique()))\n",
    "print(\"The Origin airports covered are: \", list(data['Origin'].unique()))\n",
    "print(\"The Destination airports covered are: \", list(data['Dest'].unique()))"
   ]
  },
  {
   "cell_type": "markdown",
   "metadata": {},
   "source": [
    "Let's define our **target column : is_delay** (1 - if arrival time delayed more than 15 minutes, 0 - otherwise). Use the `rename` method to rename the column from `ArrDel15` to `is_delay`.\n",
    "\n",
    "**Hint**: You can use the Pandas `rename` function ([documentation](https://pandas.pydata.org/pandas-docs/stable/reference/api/pandas.DataFrame.rename.html)).\n",
    "\n",
    "For example:\n",
    "```\n",
    "df.rename(columns={'col1':'column1'}, inplace=True)\n",
    "```"
   ]
  },
  {
   "cell_type": "code",
   "execution_count": 55,
   "metadata": {},
   "outputs": [],
   "source": [
    "# Renaming 'ArrDelay' to 'is_delay'\n",
    "data.rename(columns={'ArrDel15': 'is_delay'}, inplace=True)"
   ]
  },
  {
   "cell_type": "markdown",
   "metadata": {},
   "source": [
    "Look for nulls across columns. You can use the `isnull()` function ([documentation](https://pandas.pydata.org/pandas-docs/version/0.17.0/generated/pandas.isnull.html)).\n",
    "\n",
    "**Hint**: `isnull()` detects whether the particular value is null or not and gives you a boolean (True or False) in its place. Use the `sum(axis=0)` function to sum up the number of columns."
   ]
  },
  {
   "cell_type": "code",
   "execution_count": 56,
   "metadata": {},
   "outputs": [
    {
     "name": "stdout",
     "output_type": "stream",
     "text": [
      "Year                     0\n",
      "Quarter                  0\n",
      "Month                    0\n",
      "DayofMonth               0\n",
      "DayOfWeek                0\n",
      "FlightDate               0\n",
      "Reporting_Airline        0\n",
      "Origin                   0\n",
      "OriginState              0\n",
      "Dest                     0\n",
      "DestState                0\n",
      "CRSDepTime               0\n",
      "Cancelled                0\n",
      "Diverted                 0\n",
      "Distance                 0\n",
      "DistanceGroup            0\n",
      "ArrDelay             22540\n",
      "ArrDelayMinutes      22540\n",
      "is_delay             22540\n",
      "AirTime              22540\n",
      "dtype: int64\n"
     ]
    }
   ],
   "source": [
    "# Enter your code here\n",
    "print(data.isnull().sum(axis=0))"
   ]
  },
  {
   "cell_type": "markdown",
   "metadata": {},
   "source": [
    "The arrival delay details and airtime are missing for 22540 out of 1658130 rows, which is 1.3%. You can either remove or impute these rows. The documentation does not mention anything about missing rows.\n",
    "\n",
    "**Hint**: Use the `~` operator to choose the values that aren't null from the `isnull()` output.\n",
    "\n",
    "For example:\n",
    "```\n",
    "null_eg = df_eg[~df_eg['column_name'].isnull()]\n",
    "```"
   ]
  },
  {
   "cell_type": "code",
   "execution_count": 58,
   "metadata": {},
   "outputs": [],
   "source": [
    "### Removal null columns\n",
    "data = data[~(data['is_delay'].isnull() | data['ArrDelayMinutes'].isnull()| data['AirTime'].isnull())]"
   ]
  },
  {
   "cell_type": "markdown",
   "metadata": {},
   "source": [
    "Get the hour of the day in 24-hour time format from CRSDepTime."
   ]
  },
  {
   "cell_type": "code",
   "execution_count": 59,
   "metadata": {},
   "outputs": [],
   "source": [
    "# Changing format for 'CRSDepTime'\n",
    "data['DepHourofDay'] = data['CRSDepTime'].astype(str).str[:2].astype(int)"
   ]
  },
  {
   "cell_type": "markdown",
   "metadata": {},
   "source": [
    "## **The ML problem statement**\n",
    "- Given a set of features, can you predict if a flight is going to be delayed more than 15 minutes?\n",
    "- Because the target variable takes only 0/1 value, you could use a classification algorithm. "
   ]
  },
  {
   "cell_type": "markdown",
   "metadata": {},
   "source": [
    "### Data exploration\n",
    "\n",
    "#### Check class delay vs. no delay\n",
    "\n",
    "**Hint**: Use a `groupby` plot ([documentation](https://pandas.pydata.org/pandas-docs/stable/reference/api/pandas.DataFrame.groupby.html)) with a `bar` plot ([documentation](https://matplotlib.org/tutorials/introductory/pyplot.html)) to plot the frequency vs. distribution of the class."
   ]
  },
  {
   "cell_type": "code",
   "execution_count": null,
   "metadata": {},
   "outputs": [
    {
     "data": {
      "image/png": "[encoded data removed]",
      "text/plain": [
       "<Figure size 640x480 with 1 Axes>"
      ]
     },
     "metadata": {},
     "output_type": "display_data"
    },
    {
     "name": "stdout",
     "output_type": "stream",
     "text": [
      "Delay count: 343332\n",
      "No delay count: 1292258\n",
      "Ratio of delayed flights to non-delayed flights: 3.7638728694092016\n"
     ]
    },
    {
     "data": {
      "image/png": "[encoded data removed]",
      "text/plain": [
       "<Figure size 800x600 with 1 Axes>"
      ]
     },
     "metadata": {},
     "output_type": "display_data"
    }
   ],
   "source": [
    "# To Groupby 'is_delay' and to calculate proportions\n",
    "delay_proportions = (data.groupby('is_delay').size() / len(data)).reset_index(name='Proportion')\n",
    "\n",
    "# Creating a bar plot\n",
    "plt.bar(delay_proportions['is_delay'], delay_proportions['Proportion'], color=['green', 'red'])\n",
    "plt.xlabel('Flight Status')\n",
    "plt.ylabel('Proportion')\n",
    "plt.title('Distribution of Classes')\n",
    "plt.xticks([0, 1], ['No Delay', 'Delay'])  # Set custom x-axis labels with clearer names\n",
    "plt.show()\n",
    "\n",
    "# Counting the number of delays and no delays\n",
    "delay_count = data['is_delay'].value_counts()[1]  # Count of delays (1)\n",
    "no_delay_count = data['is_delay'].value_counts()[0]  # Count of no delays (0)\n",
    "\n",
    "# To store the counts in variables\n",
    "print(f\"Delay count: {delay_count}\")\n",
    "print(f\"No delay count: {no_delay_count}\")\n",
    "# To calculate the ratio between no delay and delay\n",
    "delay_ratio = no_delay_count / delay_count\n",
    "print(\"Ratio of delayed flights to non-delayed flights:\", delay_ratio)\n",
    "\n",
    "# Creating a bar plot\n",
    "plt.figure(figsize=(8, 6))\n",
    "plt.bar(['No Delay', 'Delay'], [no_delay_count, delay_count], color=['green', 'red'])\n",
    "plt.xlabel('Flight Status')\n",
    "plt.ylabel('Count')\n",
    "plt.title('Count of Delay vs. No Delay')\n",
    "plt.show()\n"
   ]
  },
  {
   "cell_type": "markdown",
   "metadata": {},
   "source": [
    "**Question**: What can you deduce from the bar plot about the ratio of delay vs. no delay?"
   ]
  },
  {
   "cell_type": "markdown",
   "metadata": {},
   "source": [
    "**Deduction from BarPlot:**\n",
    "\n",
    "From calculation, we can say that for every one incident of 'delay', we have 3.7638728694092016 'no delay'. It means after every \n",
    "'3.7638728694092016' times being on schedule, there is one occurance of 'delay'. The Frequency bar shows that the relation between 'no delay' and 'delay' is *0.79:0.21* approximately."
   ]
  },
  {
   "cell_type": "markdown",
   "metadata": {},
   "source": [
    "**Questions**: \n",
    "\n",
    "- Which months have the most delays?\n",
    "- What time of the day has the most delays?\n",
    "- What day of the week has the most delays?\n",
    "- Which airline has the most delays?\n",
    "- Which origin and destination airports have the most delays?\n",
    "- Is flight distance a factor in the delays?"
   ]
  },
  {
   "cell_type": "code",
   "execution_count": null,
   "metadata": {},
   "outputs": [
    {
     "data": {
      "image/png": "[encoded data removed]",
      "text/plain": [
       "<Figure size 2000x2000 with 6 Axes>"
      ]
     },
     "metadata": {},
     "output_type": "display_data"
    },
    {
     "data": {
      "image/png": "[encoded data removed]",
      "text/plain": [
       "<Figure size 500x500 with 1 Axes>"
      ]
     },
     "metadata": {},
     "output_type": "display_data"
    }
   ],
   "source": [
    "# Grouping the columns for visualisation\n",
    "viz_columns = ['Month', 'DepHourofDay', 'DayOfWeek', 'Reporting_Airline', 'Origin', 'Dest']\n",
    "fig, axes = plt.subplots(3, 2, figsize=(20,20), squeeze=False)\n",
    "# fig.autofmt_xdate(rotation=90)\n",
    "\n",
    "# Plotting bar graph with percentage of 'is delay' and it's opposite\n",
    "for idx, column in enumerate(viz_columns):\n",
    "    ax = axes[idx//2, idx%2]\n",
    "    temp = data.groupby(column)['is_delay'].value_counts(normalize=True).rename('percentage').\\\n",
    "    mul(100).reset_index().sort_values(column)\n",
    "    sns.barplot(x=column, y=\"percentage\", hue=\"is_delay\", data=temp, ax=ax)\n",
    "    plt.ylabel('% delay/no-delay')\n",
    "    \n",
    "\n",
    "plt.show()\n",
    "\n",
    "# Plotting scatter plot for no delay\n",
    "sns.lmplot( x=\"is_delay\", y=\"Distance\", data=data, fit_reg=False, hue='is_delay', legend=False)\n",
    "plt.legend(loc='center')\n",
    "plt.xlabel('is_delay')\n",
    "plt.ylabel('Distance')\n",
    "plt.show()"
   ]
  },
  {
   "cell_type": "code",
   "execution_count": null,
   "metadata": {},
   "outputs": [
    {
     "data": {
      "text/plain": [
       "<Figure size 1200x600 with 0 Axes>"
      ]
     },
     "metadata": {},
     "output_type": "display_data"
    },
    {
     "data": {
      "image/png": "[encoded data removed]",
      "text/plain": [
       "<Figure size 640x480 with 1 Axes>"
      ]
     },
     "metadata": {},
     "output_type": "display_data"
    }
   ],
   "source": [
    "# To Group by 'CRSDepHour' and 'is_delay', then count occurrences\n",
    "data['CRSDepTime'] = data['CRSDepTime'].astype(str).str.zfill(4)  # Padding zero if needed\n",
    "data['Hour'] = data['CRSDepTime'].str[:2].astype(int)  # selecting 1st two rows as HH\n",
    "\n",
    "# To Count the delay and no delay for each hour\n",
    "hourly_delay_counts = data.groupby(['Hour', 'is_delay']).size().unstack(fill_value=0)\n",
    "\n",
    "# Plotting the BarPlot by Hour\n",
    "plt.figure(figsize=(12, 6))\n",
    "hourly_delay_counts.plot(kind='bar', stacked=False, width=0.8)\n",
    "plt.xlabel('Hour of Scheduled Departure')\n",
    "plt.ylabel('Count')\n",
    "plt.title('Count of Delay vs. No Delay for Each Hour')\n",
    "plt.legend(['No Delay', 'Delay'])\n",
    "plt.xticks(rotation=0)\n",
    "plt.show()"
   ]
  },
  {
   "cell_type": "code",
   "execution_count": 86,
   "metadata": {},
   "outputs": [
    {
     "data": {
      "image/png": "[encoded data removed]",
      "text/plain": [
       "<Figure size 500x500 with 1 Axes>"
      ]
     },
     "metadata": {},
     "output_type": "display_data"
    }
   ],
   "source": [
    "# Scatterplot of relation between Distance and delay\n",
    "sns.lmplot(x=\"Distance\", y=\"is_delay\", data=data)\n",
    "plt.xlabel(\"Distance\")\n",
    "plt.ylabel(\"Arrival Delay\")\n",
    "plt.title(\"Relationship between Distance and Arrival Delay\")\n",
    "plt.show()"
   ]
  },
  {
   "cell_type": "markdown",
   "metadata": {},
   "source": [
    "# Explaining the Figues:\n",
    "There are six bar plots providing number of delay(and no delay) by percentages across various factors like month, departure hour, day of the week, airline, origin, and destination. It is seen that month of 6(June) and 1st,4th and 5th day of weeks encounters most delays. Also 17:00 hours has the most occurance of delay and considerable amount of delay recorded in between 16:00-20:00 hours. Amongst the Airliners **WN**(Southwest Airlines) has most arrival delay. As for the airports, **ORD** (Chicago) has most delays as Origin, with **SFO**(San Francisco) is the 2nd and **SFO**(San Francisco) has most delays as destination. There is delay from **LAX**(Los Angeles) in around 22% of time.\n",
    "\n",
    "From Scatter plot, we see relationship between distance and delay, we can say there are no significant correlation between increase of delay with distance. Regression line showed a negligible negative relation between delay and distance.\n",
    "\n"
   ]
  },
  {
   "cell_type": "markdown",
   "metadata": {},
   "source": [
    "### Features\n",
    "\n",
    "Look at all the columns and what their specific types are."
   ]
  },
  {
   "cell_type": "code",
   "execution_count": 89,
   "metadata": {},
   "outputs": [
    {
     "name": "stdout",
     "output_type": "stream",
     "text": [
      "Year                   int64\n",
      "Quarter                int64\n",
      "Month                  int64\n",
      "DayofMonth             int64\n",
      "DayOfWeek              int64\n",
      "FlightDate            object\n",
      "Reporting_Airline     object\n",
      "Origin                object\n",
      "OriginState           object\n",
      "Dest                  object\n",
      "DestState             object\n",
      "CRSDepTime            object\n",
      "Cancelled            float64\n",
      "Diverted             float64\n",
      "Distance             float64\n",
      "DistanceGroup          int64\n",
      "ArrDelay             float64\n",
      "ArrDelayMinutes      float64\n",
      "is_delay             float64\n",
      "AirTime              float64\n",
      "DepHourofDay           int64\n",
      "DepHour                int64\n",
      "CRSDepHour             int64\n",
      "Hour                   int64\n",
      "dtype: object\n",
      "int64      10\n",
      "object      7\n",
      "float64     7\n",
      "Name: count, dtype: int64\n"
     ]
    }
   ],
   "source": [
    "print(data.dtypes)\n",
    "\n",
    "# counts of each data types\n",
    "data_types = data.dtypes.value_counts()\n",
    "print(data_types)"
   ]
  },
  {
   "cell_type": "markdown",
   "metadata": {},
   "source": [
    "Filtering the required columns:\n",
    "- Date is redundant, because you have Year, Quarter, Month, DayofMonth, and DayOfWeek to describe the date.\n",
    "- Use Origin and Dest codes instead of OriginState and DestState.\n",
    "- Because you are just classifying whether the flight is delayed or not, you don't need TotalDelayMinutes, DepDelayMinutes, and ArrDelayMinutes.\n",
    "\n",
    "Treat DepHourofDay as a categorical variable because it doesn't have any quantitative relation with the target.\n",
    "- If you had to do a one-hot encoding of it, it would result in 23 more columns.\n",
    "- Other alternatives to handling categorical variables include hash encoding, regularized mean encoding, and bucketizing the values, among others.\n",
    "- Just split into buckets here.\n",
    "\n",
    "**Hint**: To change a column type to category, use the `astype` function ([documentation](https://pandas.pydata.org/pandas-docs/stable/reference/api/pandas.DataFrame.astype.html))."
   ]
  },
  {
   "cell_type": "code",
   "execution_count": null,
   "metadata": {},
   "outputs": [],
   "source": [
    "# For creating a copy of the original DataFrame\n",
    "data_orig = data.copy()\n",
    "\n",
    "# Selection of relevant columns\n",
    "data = data[['is_delay', 'Quarter', 'Month', 'DayofMonth', 'DayOfWeek', \n",
    "              'Reporting_Airline', 'Origin', 'Dest', 'Distance', 'DepHourofDay']]\n",
    "\n",
    "# Conversion of categorical columns to categorical data type\n",
    "categorical_columns = ['Quarter', 'Month', 'DayOfWeek', 'Reporting_Airline', 'Origin', 'Dest', 'DepHourofDay']\n",
    "for c in categorical_columns:\n",
    "    data[c] = data[c].astype('category')"
   ]
  },
  {
   "cell_type": "markdown",
   "metadata": {},
   "source": [
    "To use one-hot encoding, use the Pandas `get_dummies` function for the categorical columns that you selected above. Then, you can concatenate those generated features to your original dataset using the Pandas `concat` function. For encoding categorical variables, you can also use *dummy encoding* by using a keyword `drop_first=True`. For more information on dummy encoding, see https://en.wikiversity.org/wiki/Dummy_variable_(statistics).\n",
    "\n",
    "For example:\n",
    "```\n",
    "pd.get_dummies(df[['column1','columns2']], drop_first=True)\n",
    "```"
   ]
  },
  {
   "cell_type": "code",
   "execution_count": null,
   "metadata": {},
   "outputs": [],
   "source": [
    "# Getting dummies for one-hot encoding\n",
    "data_dummies = pd.get_dummies(data[categorical_columns], drop_first=True) \n",
    "data = pd.concat([data, data_dummies], axis = 1)\n",
    "data.drop(categorical_columns,axis=1, inplace=True)"
   ]
  },
  {
   "cell_type": "markdown",
   "metadata": {},
   "source": [
    "Check the length of the dataset and the new columns"
   ]
  },
  {
   "cell_type": "code",
   "execution_count": 92,
   "metadata": {},
   "outputs": [
    {
     "name": "stdout",
     "output_type": "stream",
     "text": [
      "Length of the dataset: 1635590\n",
      "New columns added: Index(['Quarter_2', 'Quarter_3', 'Quarter_4', 'Month_2', 'Month_3', 'Month_4',\n",
      "       'Month_5', 'Month_6', 'Month_7', 'Month_8',\n",
      "       ...\n",
      "       'DepHourofDay_82', 'DepHourofDay_83', 'DepHourofDay_84',\n",
      "       'DepHourofDay_85', 'DepHourofDay_90', 'DepHourofDay_91',\n",
      "       'DepHourofDay_92', 'DepHourofDay_93', 'DepHourofDay_94',\n",
      "       'DepHourofDay_95'],\n",
      "      dtype='object', length=122)\n"
     ]
    }
   ],
   "source": [
    "# To check dataset length and new columns(dummy)\n",
    "print(\"Length of the dataset:\", len(data))\n",
    "print(\"New columns added:\", data_dummies.columns)"
   ]
  },
  {
   "cell_type": "markdown",
   "metadata": {},
   "source": [
    "**Sample Answer:** \n",
    "```\n",
    "Index(['Distance', 'is_delay', 'Quarter_2', 'Quarter_3', 'Quarter_4',\n",
    "       'Month_2', 'Month_3', 'Month_4', 'Month_5', 'Month_6', 'Month_7',\n",
    "       'Month_8', 'Month_9', 'Month_10', 'Month_11', 'Month_12',\n",
    "       'DayofMonth_2', 'DayofMonth_3', 'DayofMonth_4', 'DayofMonth_5',\n",
    "       'DayofMonth_6', 'DayofMonth_7', 'DayofMonth_8', 'DayofMonth_9',\n",
    "       'DayofMonth_10', 'DayofMonth_11', 'DayofMonth_12', 'DayofMonth_13',\n",
    "       'DayofMonth_14', 'DayofMonth_15', 'DayofMonth_16', 'DayofMonth_17',\n",
    "       'DayofMonth_18', 'DayofMonth_19', 'DayofMonth_20', 'DayofMonth_21',\n",
    "       'DayofMonth_22', 'DayofMonth_23', 'DayofMonth_24', 'DayofMonth_25',\n",
    "       'DayofMonth_26', 'DayofMonth_27', 'DayofMonth_28', 'DayofMonth_29',\n",
    "       'DayofMonth_30', 'DayofMonth_31', 'DayOfWeek_2', 'DayOfWeek_3',\n",
    "       'DayOfWeek_4', 'DayOfWeek_5', 'DayOfWeek_6', 'DayOfWeek_7',\n",
    "       'Reporting_Airline_DL', 'Reporting_Airline_OO', 'Reporting_Airline_UA',\n",
    "       'Reporting_Airline_WN', 'Origin_CLT', 'Origin_DEN', 'Origin_DFW',\n",
    "       'Origin_IAH', 'Origin_LAX', 'Origin_ORD', 'Origin_PHX', 'Origin_SFO',\n",
    "       'Dest_CLT', 'Dest_DEN', 'Dest_DFW', 'Dest_IAH', 'Dest_LAX', 'Dest_ORD',\n",
    "       'Dest_PHX', 'Dest_SFO'],\n",
    "      dtype='object')\n",
    "```"
   ]
  },
  {
   "cell_type": "markdown",
   "metadata": {},
   "source": [
    "Now you are ready to do model training. Before splitting the data, rename the column `is_delay` to `target`.\n",
    "\n",
    "**Hint**: You can use the Pandas `rename` function ([documentation](https://pandas.pydata.org/pandas-docs/stable/reference/api/pandas.DataFrame.rename.html))."
   ]
  },
  {
   "cell_type": "code",
   "execution_count": 93,
   "metadata": {},
   "outputs": [],
   "source": [
    "# Renaming `is_delay` to `target`\n",
    "data.rename(columns = {'is_delay': 'target'}, inplace=True )"
   ]
  },
  {
   "cell_type": "code",
   "execution_count": 94,
   "metadata": {},
   "outputs": [],
   "source": [
    "# Saving the combined csv file (combined_csv_v1.csv) to local server/computer\n",
    "data.to_csv('combined_csv_v1.csv', index=False)"
   ]
  },
  {
   "cell_type": "markdown",
   "metadata": {},
   "source": [
    "# Step 3: Model training and evaluation\n",
    "\n",
    "1. Split the data into `train_data`, and `test_data` using `sklearn.model_selection.train_test_split`.  \n",
    "2. Build a logistic regression model for the data, where training data is 80%, and test data is 20%.\n",
    "\n",
    "Use the following cells to complete these steps. Insert and delete cells where needed.\n"
   ]
  },
  {
   "cell_type": "markdown",
   "metadata": {},
   "source": [
    "### Train test split"
   ]
  },
  {
   "cell_type": "code",
   "execution_count": 4,
   "metadata": {},
   "outputs": [],
   "source": [
    "data_v1 = pd.read_csv('combined_csv_v1.csv')"
   ]
  },
  {
   "cell_type": "code",
   "execution_count": 9,
   "metadata": {},
   "outputs": [
    {
     "name": "stdout",
     "output_type": "stream",
     "text": [
      "Accuracy:0.7901216074933205\n",
      "Classification Report:\n",
      "               precision    recall  f1-score   support\n",
      "\n",
      "         0.0       0.79      1.00      0.88    258421\n",
      "         1.0       0.57      0.00      0.01     68697\n",
      "\n",
      "    accuracy                           0.79    327118\n",
      "   macro avg       0.68      0.50      0.44    327118\n",
      "weighted avg       0.74      0.79      0.70    327118\n",
      "\n"
     ]
    }
   ],
   "source": [
    "# Loading Libraries for Logistics Regression\n",
    "from sklearn.model_selection import train_test_split\n",
    "from sklearn.linear_model import LogisticRegression\n",
    "from sklearn.metrics import accuracy_score, classification_report\n",
    "\n",
    "# Spliting of data\n",
    "train_data, test_data = train_test_split(data_v1, test_size=0.2, random_state=42)\n",
    "\n",
    "# Separation of features and target variables\n",
    "X_train = train_data.drop(columns='target')\n",
    "y_train = train_data['target']\n",
    "X_test = test_data.drop(columns='target')\n",
    "y_test = test_data['target']\n",
    "\n",
    "# Building Logistic Regression model\n",
    "model = LogisticRegression(max_iter=1000)\n",
    "model.fit(X_train, y_train)\n",
    "\n",
    "# Prediction on test data\n",
    "y_pred = model.predict(X_test)\n",
    "\n",
    "# To evaluate model through accuracy and classification report\n",
    "accuracy = accuracy_score(y_test, y_pred)\n",
    "class_report = classification_report(y_test, y_pred)\n",
    "\n",
    "print(f\"Accuracy:{accuracy}\")\n",
    "print(\"Classification Report:\\n\", class_report)\n",
    "\n"
   ]
  },
  {
   "cell_type": "markdown",
   "metadata": {},
   "source": [
    "**Evaluation of Model:**\n",
    "It shows an imbalanced performance. The model has a high precision (0.79) and recall (1.00) for class 0 (no delay), meaning it’s very accurate at predicting instances of class 0. On the contrary, for class 1 (delay), the model performs poorly, with a low precision (0.57) and almost no recall (0.00). Meaning it rarely identifies delay (class 1) correctly."
   ]
  },
  {
   "cell_type": "code",
   "execution_count": null,
   "metadata": {},
   "outputs": [
    {
     "name": "stdout",
     "output_type": "stream",
     "text": [
      "Accuracy: 0.6360334802731736\n",
      "Classification Report:\n",
      "              precision    recall  f1-score   support\n",
      "\n",
      "         0.0       0.85      0.66      0.74    258421\n",
      "         1.0       0.30      0.56      0.39     68697\n",
      "\n",
      "    accuracy                           0.64    327118\n",
      "   macro avg       0.57      0.61      0.57    327118\n",
      "weighted avg       0.73      0.64      0.67    327118\n",
      "\n"
     ]
    }
   ],
   "source": [
    "# Loading Libraries for random forest\n",
    "from sklearn.ensemble import RandomForestClassifier\n",
    "\n",
    "# Splitting the data\n",
    "X = data_v1.drop(columns=['target'])\n",
    "y = data_v1['target']\n",
    "train_data, test_data, train_labels, test_labels = train_test_split(X, y, test_size=0.2, random_state=42)\n",
    "\n",
    "# Defining RandomForest with parametres limited\n",
    "rf_model = RandomForestClassifier(\n",
    "    n_estimators=100, \n",
    "    max_depth=15,            \n",
    "    max_features='sqrt',    \n",
    "    class_weight='balanced',\n",
    "    n_jobs=2,               \n",
    "    random_state=42\n",
    ")\n",
    "\n",
    "# Training the model\n",
    "rf_model.fit(train_data, train_labels)\n",
    "\n",
    "# Making predictions on the test set\n",
    "test_predictions = rf_model.predict(test_data)\n",
    "\n",
    "# Evaluating the model\n",
    "print(\"Accuracy:\", accuracy_score(test_labels, test_predictions))\n",
    "print(\"Classification Report:\")\n",
    "print(classification_report(test_labels, test_predictions))\n"
   ]
  },
  {
   "cell_type": "markdown",
   "metadata": {},
   "source": [
    "**Random Forrest Model Evaluation:**\n",
    "Due to large dataset and robust RF parametres but limited memory capacity, the parametres were optimized. However it showed poor accuracy and misclassifying on delay(0.66 recall). It showed increased performance for class 1 (delay) but not significant. "
   ]
  },
  {
   "cell_type": "markdown",
   "metadata": {},
   "source": [
    "### Baseline classification model"
   ]
  },
  {
   "cell_type": "code",
   "execution_count": null,
   "metadata": {},
   "outputs": [
    {
     "name": "stdout",
     "output_type": "stream",
     "text": [
      "Baseline model accuracy: 0.7899932134581404\n"
     ]
    }
   ],
   "source": [
    "# Loading Libraries\n",
    "from sklearn.dummy import DummyClassifier\n",
    "\n",
    "# Splitting the dataset in training and testing\n",
    "X_train, X_test, y_train, y_test = train_test_split(X, y, test_size=0.2, random_state=42)\n",
    "\n",
    "# Creating a DummyClassifier ()'most_frequent')\n",
    "baseline_model = DummyClassifier(strategy='most_frequent')\n",
    "baseline_model.fit(X_train, y_train)\n",
    "\n",
    "# Prediction and evaluation\n",
    "y_pred = baseline_model.predict(X_test)\n",
    "baseline_acc = accuracy_score(y_test, y_pred)\n",
    "\n",
    "print(f'Baseline model accuracy: {baseline_acc}')\n"
   ]
  },
  {
   "cell_type": "markdown",
   "metadata": {},
   "source": [
    "**Evaluation of Baseline results:**\n",
    "\n",
    "From the accuracy results we can see that model correctly predicted the target class in 79% cases approximately. From visualisation of data we have also seen that there is class 0 in approxiately 79% observation. However, from logistic regression evaluation results we observed accurate class 0 prediction with 1.00 recall but no significant identification of class 1 (delay). So the 79% accuracy is only captured for class 0 (no delay)."
   ]
  },
  {
   "cell_type": "markdown",
   "metadata": {},
   "source": [
    "## Model evaluation\n",
    "In this section, you'll evaluate your trained model on test data and report on the following metrics:\n",
    "* Confusion Matrix plot\n",
    "* Plot the ROC\n",
    "* Report statistics such as Accuracy, Percision, Recall, Sensitivity and Specificity"
   ]
  },
  {
   "cell_type": "markdown",
   "metadata": {},
   "source": [
    "To view a plot of the confusion matrix, and various scoring metrics, create a couple of functions:"
   ]
  },
  {
   "cell_type": "markdown",
   "metadata": {},
   "source": [
    "To plot the confusion matrix, call the `plot_confusion_matrix` function on the `test_labels` and `target_predicted` data from your batch job:"
   ]
  },
  {
   "cell_type": "code",
   "execution_count": 23,
   "metadata": {},
   "outputs": [
    {
     "name": "stdout",
     "output_type": "stream",
     "text": [
      "[[258421      0]\n",
      " [ 68697      0]]\n"
     ]
    },
    {
     "data": {
      "image/png": "[encoded data removed]",
      "text/plain": [
       "<Figure size 800x600 with 1 Axes>"
      ]
     },
     "metadata": {},
     "output_type": "display_data"
    }
   ],
   "source": [
    "# Loading Libraries\n",
    "from sklearn.metrics import confusion_matrix\n",
    "\n",
    "# Defining confusion matrix\n",
    "def plot_confusion_matrix(test_labels, target_predicted):\n",
    "    # To Compute the confusion matrix\n",
    "    cm = confusion_matrix(test_labels, target_predicted)\n",
    "    \n",
    "    # To Create a heatmap\n",
    "    plt.figure(figsize=(8, 6))\n",
    "    sns.heatmap(cm, annot=True, fmt=\"d\", cmap=\"Blues\", cbar=False)\n",
    "    \n",
    "    # To Add labels and title\n",
    "    plt.xlabel('Predicted Labels')\n",
    "    plt.ylabel('True Labels')\n",
    "    plt.title('Confusion Matrix')\n",
    "    plt.show()\n",
    "\n",
    "# Plotting confusion matrix\n",
    "print(confusion_matrix(y_test,y_pred))\n",
    "plot_confusion_matrix(y_test, y_pred)\n"
   ]
  },
  {
   "cell_type": "markdown",
   "metadata": {},
   "source": [
    "To print statistics and plot an ROC curve, call the `plot_roc` function on the `test_labels` and `target_predicted` data from your batch job:"
   ]
  },
  {
   "cell_type": "code",
   "execution_count": 18,
   "metadata": {},
   "outputs": [
    {
     "data": {
      "image/png": "[encoded data removed]",
      "text/plain": [
       "<Figure size 800x600 with 1 Axes>"
      ]
     },
     "metadata": {},
     "output_type": "display_data"
    }
   ],
   "source": [
    "from sklearn.metrics import roc_curve, auc\n",
    "\n",
    "# Defining ROC plot and tests and targets\n",
    "def plot_roc_curve(test_labels, target_predicted):\n",
    "    # To Calculate the false positive rate, true positive rate, and threshold\n",
    "    fpr, tpr, thresholds = roc_curve(test_labels, target_predicted)\n",
    "    \n",
    "    # To Calculate the Area Under the Curve (AUC)\n",
    "    roc_auc = auc(fpr, tpr)\n",
    "    \n",
    "    # Plotting the ROC curve\n",
    "    plt.figure(figsize=(8, 6))\n",
    "    plt.plot(fpr, tpr, color='darkorange', lw=2, label=f'ROC curve (area = {roc_auc:.2f})')\n",
    "    plt.plot([0, 1], [0, 1], color='navy', lw=2, linestyle='--')  # Diagonal line for random guess\n",
    "    \n",
    "    # Adding labels and title\n",
    "    plt.xlabel('False Positive Rate')\n",
    "    plt.ylabel('True Positive Rate')\n",
    "    plt.title('Receiver Operating Characteristic (ROC) Curve')\n",
    "    plt.legend(loc=\"lower right\")\n",
    "    plt.show()\n",
    "\n",
    "# Exploring ROC curve\n",
    "target_probabilities = model.predict_proba(X_test)[:, 1]\n",
    "plot_roc_curve(y_test, target_probabilities)\n"
   ]
  },
  {
   "cell_type": "code",
   "execution_count": null,
   "metadata": {},
   "outputs": [
    {
     "name": "stdout",
     "output_type": "stream",
     "text": [
      "Accuracy: 0.7900\n",
      "Precision: 0.0000\n",
      "Recall (Sensitivity): 0.0000\n",
      "Specificity: 1.0000\n",
      "\n",
      "Classification Report:\n",
      "               precision    recall  f1-score   support\n",
      "\n",
      "         0.0       0.79      1.00      0.88    258421\n",
      "         1.0       0.00      0.00      0.00     68697\n",
      "\n",
      "    accuracy                           0.79    327118\n",
      "   macro avg       0.39      0.50      0.44    327118\n",
      "weighted avg       0.62      0.79      0.70    327118\n",
      "\n"
     ]
    }
   ],
   "source": [
    "# Statistical Report\n",
    "\n",
    "# Loading Libraries\n",
    "from sklearn.metrics import accuracy_score, precision_score, recall_score, classification_report, confusion_matrix\n",
    "\n",
    "# Calculating the confusion matrix\n",
    "cm = confusion_matrix(y_test, y_pred)\n",
    "\n",
    "# Extracting true negatives, false positives, false negatives, true positives\n",
    "tn, fp, fn, tp = cm.ravel()\n",
    "\n",
    "# Calculating metrics\n",
    "accuracy = accuracy_score(y_test, y_pred)\n",
    "precision = precision_score(y_test, y_pred)\n",
    "recall = recall_score(y_test, y_pred)  \n",
    "specificity = tn / (tn + fp)  \n",
    "\n",
    "# Print of statistical measures\n",
    "print(f\"Accuracy: {accuracy:.4f}\")\n",
    "print(f\"Precision: {precision:.4f}\")\n",
    "print(f\"Recall (Sensitivity): {recall:.4f}\")\n",
    "print(f\"Specificity: {specificity:.4f}\")\n",
    "\n",
    "# Display of classification report\n",
    "print(\"\\nClassification Report:\\n\", classification_report(y_test, y_pred))\n"
   ]
  },
  {
   "cell_type": "code",
   "execution_count": 21,
   "metadata": {},
   "outputs": [
    {
     "name": "stdout",
     "output_type": "stream",
     "text": [
      "Training Set Performance:\n",
      "Confusion Matrix:\n",
      "[[1033262     575]\n",
      " [ 273915     720]]\n",
      "Accuracy: 0.79\n",
      "Precision: 0.56\n",
      "Recall (Sensitivity): 0.00\n",
      "Specificity: 1.00\n",
      "\n",
      "Test Set Performance:\n",
      "Confusion Matrix:\n",
      "[[258282    139]\n",
      " [ 68516    181]]\n",
      "Accuracy: 0.79\n",
      "Precision: 0.57\n",
      "Recall (Sensitivity): 0.00\n",
      "Specificity: 1.00\n"
     ]
    }
   ],
   "source": [
    "# Evaluation between test and training set with confusion matrix and other statistical measures\n",
    "\n",
    "# Loading Necessary Libraries\n",
    "from sklearn.metrics import confusion_matrix, accuracy_score, precision_score, recall_score\n",
    "\n",
    "# Predictting on training and test sets\n",
    "y_train_pred = model.predict(X_train)\n",
    "y_test_pred = model.predict(X_test)\n",
    "\n",
    "# Confusion matrix for training and test sets\n",
    "train_cm = confusion_matrix(y_train, y_train_pred)\n",
    "test_cm = confusion_matrix(y_test, y_test_pred)\n",
    "\n",
    "# Accuracy\n",
    "train_accuracy = accuracy_score(y_train, y_train_pred)\n",
    "test_accuracy = accuracy_score(y_test, y_test_pred)\n",
    "\n",
    "# Precision\n",
    "train_precision = precision_score(y_train, y_train_pred)\n",
    "test_precision = precision_score(y_test, y_test_pred)\n",
    "\n",
    "# Recall (Sensitivity)\n",
    "train_recall = recall_score(y_train, y_train_pred)\n",
    "test_recall = recall_score(y_test, y_test_pred)\n",
    "\n",
    "# Specificity\n",
    "train_specificity = train_cm[0, 0] / (train_cm[0, 0] + train_cm[0, 1])\n",
    "test_specificity = test_cm[0, 0] / (test_cm[0, 0] + test_cm[0, 1])\n",
    "\n",
    "# Display results for training set\n",
    "print(\"Training Set Performance:\")\n",
    "print(f\"Confusion Matrix:\\n{train_cm}\")\n",
    "print(f\"Accuracy: {train_accuracy:.2f}\")\n",
    "print(f\"Precision: {train_precision:.2f}\")\n",
    "print(f\"Recall (Sensitivity): {train_recall:.2f}\")\n",
    "print(f\"Specificity: {train_specificity:.2f}\")\n",
    "\n",
    "# Display results for test set\n",
    "print(\"\\nTest Set Performance:\")\n",
    "print(f\"Confusion Matrix:\\n{test_cm}\")\n",
    "print(f\"Accuracy: {test_accuracy:.2f}\")\n",
    "print(f\"Precision: {test_precision:.2f}\")\n",
    "print(f\"Recall (Sensitivity): {test_recall:.2f}\")\n",
    "print(f\"Specificity: {test_specificity:.2f}\")\n"
   ]
  },
  {
   "cell_type": "markdown",
   "metadata": {},
   "source": [
    "### Key questions to consider:\n",
    "1. How does your model's performance on the test set compare to the training set? What can you deduce from this comparison? \n",
    "\n",
    "2. Are there obvious differences between the outcomes of metrics like accuracy, precision, and recall? If so, why might you be seeing those differences? \n",
    "\n",
    "3. Is the outcome for the metric(s) you consider most important sufficient for what you need from a business standpoint? If not, what are some things you might change in your next iteration (in the feature engineering section, which is coming up next)? \n",
    "\n",
    "Use the cells below to answer these and other questions. Insert and delete cells where needed."
   ]
  },
  {
   "cell_type": "markdown",
   "metadata": {},
   "source": [
    "\n",
    "**Question**: What can you summarize from the confusion matrix?\n"
   ]
  },
  {
   "cell_type": "markdown",
   "metadata": {},
   "source": [
    "**Confusion Matrix Report:**\n",
    "\n",
    "It has given 258,421 cases of correct prediction as 0 (non-delay). However, there were 68,697 cases of incorrect prediction as 0 (non-delay) when they were actually 1 (delay). Such results indicates a significant problem with the model’s performance, specifically with its handling of class 1 (delay)\n",
    "\n",
    "**AUC-ROC Interpretation**\n",
    "\n",
    "AUC score of 0.64 indicates that the probability of choosing positive is slightly higher. But for an acceptable model, the AUC score should be much higher. The model is picking up on some patterns but it is not acceptable enough.\n",
    "\n",
    "**Statistical Reports:**\n",
    "\n",
    "The model is highly accurate overall but fails to predict the class 1 (delay). It is understandable because class 0 (no delay) has outnumbered class 1 by ratio 0:79:0.21(approximately). In this case, the model is biased towards predicting the majority class 0  and neglecting the minority class 1\n",
    "\n",
    "**Decision Based on outcome of the Evaluation Matrice:**\n",
    "\n",
    "The result is dissatisfactory, because the model has not able to predict class 1 (delay) with almost zero accuracy. Therefore this model is not effective for delay prediction. When a dataset has vast difference between two classes, it is suggested to opt for other models, i,e SMOTE (Synthetic Minority Over-sampling Technique). \n",
    "> **Ref:** https://www.sciencedirect.com/science/article/abs/pii/S0020025519306838\n",
    "\n",
    "**Differences in Metrics Results:**\n",
    "\n",
    "*Accuracy* refer to Proportion of total correct predictions in relation to total number of prediction. In this modeling, due to class imbalance such accuracy (0.79) is misguiding. It has correctly predicted majority class 0 (no delay) with maximum accuracy but failed predict almost all of the minority class 1 (no delay)\n",
    "\n",
    "*Precsion* and *Recall* is zero for class 1 meaning model predicted class 1 incorrectly every time and model failed to identify any instances of class 1. For class 0, it was 0.79 and 0.88 respectively.\n",
    "\n",
    "**Comparison Training & Testing Set:**\n",
    "\n",
    "In Both cases, we see similar performance metrics, with accuracy around 0.79, precision slightly higher in the test set. However, recall remains at 0.00 for both sets, indicating the model fails to identify class 1."
   ]
  },
  {
   "cell_type": "markdown",
   "metadata": {},
   "source": [
    "# Step 4: Deployment\n",
    "\n",
    "1. In this step you are required to push your source code and requirements file to a GitLab repository without the data files. Please use the Git commands to complete this task\n",
    "2- Create a “readme.md” markdown file that describes the code of this repository and how to run it and what the user would expect if got the code running.\n",
    "\n",
    "In the cell below provide the link of the pushed repository on your GitLab account.\n"
   ]
  },
  {
   "cell_type": "markdown",
   "metadata": {},
   "source": [
    "**GitHub Link:**\n",
    "https://github.com/IR973AA/final-project-u3267686-part-A.git"
   ]
  },
  {
   "cell_type": "markdown",
   "metadata": {},
   "source": [
    "# Iteration II"
   ]
  },
  {
   "cell_type": "markdown",
   "metadata": {},
   "source": [
    "# Step 5: Feature engineering\n",
    "\n",
    "You've now gone through one iteration of training and evaluating your model. Given that the outcome you reached for your model the first time probably wasn't sufficient for solving your business problem, what are some things you could change about your data to possibly improve model performance?\n",
    "\n",
    "### Key questions to consider:\n",
    "1. How might the balance of your two main classes (delay and no delay) impact model performance?\n",
    "2. Do you have any features that are correlated?\n",
    "3. Are there feature reduction techniques you could perform at this stage that might have a positive impact on model performance? \n",
    "4. Can you think of adding some more data/datasets?\n",
    "4. After performing some feature engineering, how does your model performance compare to the first iteration?\n",
    "\n",
    "Use the cells below to perform specific feature engineering techniques (per the questions above) that you think could improve your model performance. Insert and delete cells where needed.\n"
   ]
  },
  {
   "cell_type": "markdown",
   "metadata": {},
   "source": [
    "#### Add more features\n",
    "\n",
    "1. Holidays\n",
    "2. Weather"
   ]
  },
  {
   "cell_type": "markdown",
   "metadata": {},
   "source": [
    "**Important Considerations:**\n",
    "\n",
    "Due to massive imbalance between two classes, class 0 outnumbering class 1, it is unlikely that adding more features would improve the prediction parametres for class 1."
   ]
  },
  {
   "cell_type": "markdown",
   "metadata": {},
   "source": [
    "Because the list of holidays from 2014 to 2018 is known, you can create an indicator variable **is_holiday** to mark these.\n",
    "The hypothesis is that airplane delays could be higher during holidays compared to the rest of the days. Add a boolean variable `is_holiday` that includes the holidays for the years 2014-2018."
   ]
  },
  {
   "cell_type": "code",
   "execution_count": 25,
   "metadata": {},
   "outputs": [
    {
     "name": "stdout",
     "output_type": "stream",
     "text": [
      "  FlightDate  is_holiday\n",
      "0 2014-01-26       False\n",
      "1 2014-01-26       False\n",
      "2 2014-01-26       False\n",
      "3 2014-01-26       False\n",
      "4 2014-01-26       False\n"
     ]
    }
   ],
   "source": [
    "# Source: http://www.calendarpedia.com/holidays/federal-holidays-2014.html\n",
    "\n",
    "import pandas as pd\n",
    "\n",
    "# List of holiday dates\n",
    "holidays_14 = ['2014-01-01',  '2014-01-20', '2014-02-17', '2014-05-26', '2014-07-04', '2014-09-01', '2014-10-13', '2014-11-11', '2014-11-27', '2014-12-25']\n",
    "holidays_15 = ['2015-01-01',  '2015-01-19', '2015-02-16', '2015-05-25', '2015-06-03', '2015-07-04', '2015-09-07', '2015-10-12', '2015-11-11', '2015-11-26', '2015-12-25']\n",
    "holidays_16 = ['2016-01-01',  '2016-01-18', '2016-02-15', '2016-05-30', '2016-07-04', '2016-09-05', '2016-10-10', '2016-11-11', '2016-11-24', '2016-12-25', '2016-12-26']\n",
    "holidays_17 = ['2017-01-02', '2017-01-16', '2017-02-20', '2017-05-29', '2017-07-04', '2017-09-04', '2017-10-09', '2017-11-10', '2017-11-23', '2017-12-25']\n",
    "holidays_18 = ['2018-01-01', '2018-01-15', '2018-02-19', '2018-05-28', '2018-07-04', '2018-09-03', '2018-10-08', '2018-11-12', '2018-11-22', '2018-12-25']\n",
    "holidays = holidays_14 + holidays_15 + holidays_16 + holidays_17 + holidays_18\n",
    "\n",
    "# Convert holidays list to datetime\n",
    "holidays = pd.to_datetime(holidays)\n",
    "\n",
    "# Load data and ensure 'FlightDate' is in datetime format\n",
    "data_orig = pd.read_csv('combined_data.csv')\n",
    "data_orig['FlightDate'] = pd.to_datetime(data_orig['FlightDate'])\n",
    "\n",
    "# Add 'is_holiday' column where True if FlightDate is in the holiday list, else False\n",
    "data_orig['is_holiday'] = data_orig['FlightDate'].isin(holidays)\n",
    "\n",
    "# Display the first few rows to confirm\n",
    "print(data_orig[['FlightDate', 'is_holiday']].head())\n"
   ]
  },
  {
   "cell_type": "markdown",
   "metadata": {},
   "source": [
    "Weather data was fetched from https://www.ncei.noaa.gov/access/services/data/v1?dataset=daily-summaries&stations=USW00023174,USW00012960,USW00003017,USW00094846,USW00013874,USW00023234,USW00003927,USW00023183,USW00013881&dataTypes=AWND,PRCP,SNOW,SNWD,TAVG,TMIN,TMAX&startDate=2014-01-01&endDate=2018-12-31.\n",
    "<br>\n",
    "\n",
    "This dataset has information on wind speed, precipitation, snow, and temperature for cities by their airport codes.\n",
    "\n",
    "**Question**: Could bad weather due to rains, heavy winds, or snow lead to airplane delay? Let's check!"
   ]
  },
  {
   "cell_type": "markdown",
   "metadata": {
    "scrolled": true
   },
   "source": [
    "> downloaded data from the link above and placed it into the parent folder"
   ]
  },
  {
   "cell_type": "markdown",
   "metadata": {},
   "source": [
    "Import weather data prepared for the airport codes in our dataset. Use the stations and airports below for the analysis, and create a new column called `airport` that maps the weather station to the airport name."
   ]
  },
  {
   "cell_type": "code",
   "execution_count": 14,
   "metadata": {},
   "outputs": [
    {
     "data": {
      "text/html": [
       "<div>\n",
       "<style scoped>\n",
       "    .dataframe tbody tr th:only-of-type {\n",
       "        vertical-align: middle;\n",
       "    }\n",
       "\n",
       "    .dataframe tbody tr th {\n",
       "        vertical-align: top;\n",
       "    }\n",
       "\n",
       "    .dataframe thead th {\n",
       "        text-align: right;\n",
       "    }\n",
       "</style>\n",
       "<table border=\"1\" class=\"dataframe\">\n",
       "  <thead>\n",
       "    <tr style=\"text-align: right;\">\n",
       "      <th></th>\n",
       "      <th>STATION</th>\n",
       "      <th>DATE</th>\n",
       "      <th>AWND</th>\n",
       "      <th>PRCP</th>\n",
       "      <th>SNOW</th>\n",
       "      <th>SNWD</th>\n",
       "      <th>TAVG</th>\n",
       "      <th>TMAX</th>\n",
       "      <th>TMIN</th>\n",
       "      <th>airport</th>\n",
       "    </tr>\n",
       "  </thead>\n",
       "  <tbody>\n",
       "    <tr>\n",
       "      <th>0</th>\n",
       "      <td>USW00023174</td>\n",
       "      <td>2014-01-01</td>\n",
       "      <td>16</td>\n",
       "      <td>0</td>\n",
       "      <td>NaN</td>\n",
       "      <td>NaN</td>\n",
       "      <td>131.0</td>\n",
       "      <td>178.0</td>\n",
       "      <td>78.0</td>\n",
       "      <td>LAX</td>\n",
       "    </tr>\n",
       "    <tr>\n",
       "      <th>1</th>\n",
       "      <td>USW00023174</td>\n",
       "      <td>2014-01-02</td>\n",
       "      <td>22</td>\n",
       "      <td>0</td>\n",
       "      <td>NaN</td>\n",
       "      <td>NaN</td>\n",
       "      <td>159.0</td>\n",
       "      <td>256.0</td>\n",
       "      <td>100.0</td>\n",
       "      <td>LAX</td>\n",
       "    </tr>\n",
       "    <tr>\n",
       "      <th>2</th>\n",
       "      <td>USW00023174</td>\n",
       "      <td>2014-01-03</td>\n",
       "      <td>17</td>\n",
       "      <td>0</td>\n",
       "      <td>NaN</td>\n",
       "      <td>NaN</td>\n",
       "      <td>140.0</td>\n",
       "      <td>178.0</td>\n",
       "      <td>83.0</td>\n",
       "      <td>LAX</td>\n",
       "    </tr>\n",
       "    <tr>\n",
       "      <th>3</th>\n",
       "      <td>USW00023174</td>\n",
       "      <td>2014-01-04</td>\n",
       "      <td>18</td>\n",
       "      <td>0</td>\n",
       "      <td>NaN</td>\n",
       "      <td>NaN</td>\n",
       "      <td>136.0</td>\n",
       "      <td>183.0</td>\n",
       "      <td>100.0</td>\n",
       "      <td>LAX</td>\n",
       "    </tr>\n",
       "    <tr>\n",
       "      <th>4</th>\n",
       "      <td>USW00023174</td>\n",
       "      <td>2014-01-05</td>\n",
       "      <td>18</td>\n",
       "      <td>0</td>\n",
       "      <td>NaN</td>\n",
       "      <td>NaN</td>\n",
       "      <td>151.0</td>\n",
       "      <td>244.0</td>\n",
       "      <td>83.0</td>\n",
       "      <td>LAX</td>\n",
       "    </tr>\n",
       "  </tbody>\n",
       "</table>\n",
       "</div>"
      ],
      "text/plain": [
       "       STATION        DATE  AWND  PRCP  SNOW  SNWD   TAVG   TMAX   TMIN  \\\n",
       "0  USW00023174  2014-01-01    16     0   NaN   NaN  131.0  178.0   78.0   \n",
       "1  USW00023174  2014-01-02    22     0   NaN   NaN  159.0  256.0  100.0   \n",
       "2  USW00023174  2014-01-03    17     0   NaN   NaN  140.0  178.0   83.0   \n",
       "3  USW00023174  2014-01-04    18     0   NaN   NaN  136.0  183.0  100.0   \n",
       "4  USW00023174  2014-01-05    18     0   NaN   NaN  151.0  244.0   83.0   \n",
       "\n",
       "  airport  \n",
       "0     LAX  \n",
       "1     LAX  \n",
       "2     LAX  \n",
       "3     LAX  \n",
       "4     LAX  "
      ]
     },
     "execution_count": 14,
     "metadata": {},
     "output_type": "execute_result"
    }
   ],
   "source": [
    "# Loading the weather data\n",
    "weather = pd.read_csv('daily-summaries-2024-11-04T09-15-20.csv')  # Adjust the file path if necessary\n",
    "\n",
    "# Defining the stations and airports lists\n",
    "station = ['USW00023174', 'USW00012960', 'USW00003017', 'USW00094846',\n",
    "           'USW00013874', 'USW00023234', 'USW00003927', 'USW00023183', 'USW00013881'] \n",
    "airports = ['LAX', 'IAH', 'DEN', 'ORD', 'ATL', 'SFO', 'DFW', 'PHX', 'CLT']\n",
    "\n",
    "# Creating a mapping dictionary\n",
    "station_map = dict(zip(station, airports))\n",
    "\n",
    "# Map of the weather stations to airports and create a new column 'airport'\n",
    "weather['airport'] = weather['STATION'].map(station_map)\n",
    "\n",
    "# Display of the first few rows to confirm the mapping\n",
    "weather.head()"
   ]
  },
  {
   "cell_type": "markdown",
   "metadata": {},
   "source": [
    "Create another column called `MONTH` from the `DATE` column."
   ]
  },
  {
   "cell_type": "code",
   "execution_count": 15,
   "metadata": {
    "scrolled": true
   },
   "outputs": [
    {
     "data": {
      "text/html": [
       "<div>\n",
       "<style scoped>\n",
       "    .dataframe tbody tr th:only-of-type {\n",
       "        vertical-align: middle;\n",
       "    }\n",
       "\n",
       "    .dataframe tbody tr th {\n",
       "        vertical-align: top;\n",
       "    }\n",
       "\n",
       "    .dataframe thead th {\n",
       "        text-align: right;\n",
       "    }\n",
       "</style>\n",
       "<table border=\"1\" class=\"dataframe\">\n",
       "  <thead>\n",
       "    <tr style=\"text-align: right;\">\n",
       "      <th></th>\n",
       "      <th>STATION</th>\n",
       "      <th>DATE</th>\n",
       "      <th>AWND</th>\n",
       "      <th>PRCP</th>\n",
       "      <th>SNOW</th>\n",
       "      <th>SNWD</th>\n",
       "      <th>TAVG</th>\n",
       "      <th>TMAX</th>\n",
       "      <th>TMIN</th>\n",
       "      <th>airport</th>\n",
       "      <th>MONTH</th>\n",
       "    </tr>\n",
       "  </thead>\n",
       "  <tbody>\n",
       "    <tr>\n",
       "      <th>0</th>\n",
       "      <td>USW00023174</td>\n",
       "      <td>2014-01-01</td>\n",
       "      <td>16</td>\n",
       "      <td>0</td>\n",
       "      <td>NaN</td>\n",
       "      <td>NaN</td>\n",
       "      <td>131.0</td>\n",
       "      <td>178.0</td>\n",
       "      <td>78.0</td>\n",
       "      <td>LAX</td>\n",
       "      <td>01</td>\n",
       "    </tr>\n",
       "    <tr>\n",
       "      <th>1</th>\n",
       "      <td>USW00023174</td>\n",
       "      <td>2014-01-02</td>\n",
       "      <td>22</td>\n",
       "      <td>0</td>\n",
       "      <td>NaN</td>\n",
       "      <td>NaN</td>\n",
       "      <td>159.0</td>\n",
       "      <td>256.0</td>\n",
       "      <td>100.0</td>\n",
       "      <td>LAX</td>\n",
       "      <td>01</td>\n",
       "    </tr>\n",
       "    <tr>\n",
       "      <th>2</th>\n",
       "      <td>USW00023174</td>\n",
       "      <td>2014-01-03</td>\n",
       "      <td>17</td>\n",
       "      <td>0</td>\n",
       "      <td>NaN</td>\n",
       "      <td>NaN</td>\n",
       "      <td>140.0</td>\n",
       "      <td>178.0</td>\n",
       "      <td>83.0</td>\n",
       "      <td>LAX</td>\n",
       "      <td>01</td>\n",
       "    </tr>\n",
       "    <tr>\n",
       "      <th>3</th>\n",
       "      <td>USW00023174</td>\n",
       "      <td>2014-01-04</td>\n",
       "      <td>18</td>\n",
       "      <td>0</td>\n",
       "      <td>NaN</td>\n",
       "      <td>NaN</td>\n",
       "      <td>136.0</td>\n",
       "      <td>183.0</td>\n",
       "      <td>100.0</td>\n",
       "      <td>LAX</td>\n",
       "      <td>01</td>\n",
       "    </tr>\n",
       "    <tr>\n",
       "      <th>4</th>\n",
       "      <td>USW00023174</td>\n",
       "      <td>2014-01-05</td>\n",
       "      <td>18</td>\n",
       "      <td>0</td>\n",
       "      <td>NaN</td>\n",
       "      <td>NaN</td>\n",
       "      <td>151.0</td>\n",
       "      <td>244.0</td>\n",
       "      <td>83.0</td>\n",
       "      <td>LAX</td>\n",
       "      <td>01</td>\n",
       "    </tr>\n",
       "  </tbody>\n",
       "</table>\n",
       "</div>"
      ],
      "text/plain": [
       "       STATION        DATE  AWND  PRCP  SNOW  SNWD   TAVG   TMAX   TMIN  \\\n",
       "0  USW00023174  2014-01-01    16     0   NaN   NaN  131.0  178.0   78.0   \n",
       "1  USW00023174  2014-01-02    22     0   NaN   NaN  159.0  256.0  100.0   \n",
       "2  USW00023174  2014-01-03    17     0   NaN   NaN  140.0  178.0   83.0   \n",
       "3  USW00023174  2014-01-04    18     0   NaN   NaN  136.0  183.0  100.0   \n",
       "4  USW00023174  2014-01-05    18     0   NaN   NaN  151.0  244.0   83.0   \n",
       "\n",
       "  airport MONTH  \n",
       "0     LAX    01  \n",
       "1     LAX    01  \n",
       "2     LAX    01  \n",
       "3     LAX    01  \n",
       "4     LAX    01  "
      ]
     },
     "execution_count": 15,
     "metadata": {},
     "output_type": "execute_result"
    }
   ],
   "source": [
    "# Getting month from DATE\n",
    "weather['MONTH'] = weather['DATE'].apply(lambda x: x.split('-')[1])\n",
    "weather.head()\n"
   ]
  },
  {
   "cell_type": "markdown",
   "metadata": {},
   "source": [
    "### Sample output\n",
    "```\n",
    "  STATION     DATE      AWND PRCP SNOW SNWD TAVG TMAX  TMIN airport MONTH\n",
    "0 USW00023174 2014-01-01 16   0   NaN  NaN 131.0 178.0 78.0  LAX    01\n",
    "1 USW00023174 2014-01-02 22   0   NaN  NaN 159.0 256.0 100.0 LAX    01\n",
    "2 USW00023174 2014-01-03 17   0   NaN  NaN 140.0 178.0 83.0  LAX    01\n",
    "3 USW00023174 2014-01-04 18   0   NaN  NaN 136.0 183.0 100.0 LAX    01\n",
    "4 USW00023174 2014-01-05 18   0   NaN  NaN 151.0 244.0 83.0  LAX    01\n",
    "```"
   ]
  },
  {
   "cell_type": "markdown",
   "metadata": {},
   "source": [
    "Analyze and handle the `SNOW` and `SNWD` columns for missing values using `fillna()`. Use the `isna()` function to check the missing values for all the columns."
   ]
  },
  {
   "cell_type": "code",
   "execution_count": 16,
   "metadata": {
    "scrolled": true
   },
   "outputs": [
    {
     "name": "stdout",
     "output_type": "stream",
     "text": [
      "STATION     0\n",
      "DATE        0\n",
      "AWND        0\n",
      "PRCP        0\n",
      "SNOW        0\n",
      "SNWD        0\n",
      "TAVG       62\n",
      "TMAX       20\n",
      "TMIN       20\n",
      "airport     0\n",
      "MONTH       0\n",
      "dtype: int64\n"
     ]
    }
   ],
   "source": [
    "# Filling missing values for 'SNOW' and 'SNWD' with 0\n",
    "weather['SNOW'].fillna(0, inplace=True)\n",
    "weather['SNWD'].fillna(0, inplace=True)\n",
    "\n",
    "# To Check for remaining missing values in all columns\n",
    "missing_values = weather.isna().sum()\n",
    "print(missing_values)\n"
   ]
  },
  {
   "cell_type": "markdown",
   "metadata": {},
   "source": [
    "**Question**: Print the index of the rows that have missing values for TAVG, TMAX, TMIN.\n",
    "\n",
    "**Hint**: Use the `isna()` function to find the rows that are missing, and then use the list on the idx variable to get the index."
   ]
  },
  {
   "cell_type": "code",
   "execution_count": 17,
   "metadata": {},
   "outputs": [
    {
     "name": "stdout",
     "output_type": "stream",
     "text": [
      "Indices with missing TAVG values: [ 3956  3957  3958  3959  3960  3961  3962  3963  3964  3965  3966  3967\n",
      "  3968  3969  3970  3971  3972  3973  3974  3975  3976  3977  3978  3979\n",
      "  3980  3981  3982  3983  3984  3985  4017  4018  4019  4020  4021  4022\n",
      "  4023  4024  4025  4026  4027  4028  4029  4030  4031  4032  4033  4034\n",
      "  4035  4036  4037  4038  4039  4040  4041  4042  4043  4044  4045  4046\n",
      "  4047 13420]\n",
      "Indices with missing TMAX values: [10763 10764 10765 10766 10767 10768 10769 10770 10771 10772 10773 10774\n",
      " 10775 10776 10777 10778 10779 10780 10781 10782]\n",
      "Indices with missing TMIN values: [10763 10764 10765 10766 10767 10768 10769 10770 10771 10772 10773 10774\n",
      " 10775 10776 10777 10778 10779 10780 10781 10782]\n"
     ]
    }
   ],
   "source": [
    "# Getting the rows with missing values for 'TAVG', 'TMAX', and 'TMIN'\n",
    "TAVG_idx = np.where(weather['TAVG'].isna())[0]\n",
    "TMAX_idx = np.where(weather['TMAX'].isna())[0]\n",
    "TMIN_idx = np.where(weather['TMIN'].isna())[0]\n",
    "\n",
    "# Print of the indices\n",
    "print(\"Indices with missing TAVG values:\", TAVG_idx)\n",
    "print(\"Indices with missing TMAX values:\", TMAX_idx)\n",
    "print(\"Indices with missing TMIN values:\", TMIN_idx)\n"
   ]
  },
  {
   "cell_type": "markdown",
   "metadata": {},
   "source": [
    "### Sample output\n",
    "\n",
    "```\n",
    "array([ 3956,  3957,  3958,  3959,  3960,  3961,  3962,  3963,  3964,\n",
    "        3965,  3966,  3967,  3968,  3969,  3970,  3971,  3972,  3973,\n",
    "        3974,  3975,  3976,  3977,  3978,  3979,  3980,  3981,  3982,\n",
    "        3983,  3984,  3985,  4017,  4018,  4019,  4020,  4021,  4022,\n",
    "        4023,  4024,  4025,  4026,  4027,  4028,  4029,  4030,  4031,\n",
    "        4032,  4033,  4034,  4035,  4036,  4037,  4038,  4039,  4040,\n",
    "        4041,  4042,  4043,  4044,  4045,  4046,  4047, 13420])\n",
    "```"
   ]
  },
  {
   "cell_type": "markdown",
   "metadata": {},
   "source": [
    "You can replace the missing TAVG, TMAX, and TMIN with the average value for a particular station/airport. Because the consecutive rows of TAVG_idx are missing, replacing with a previous value would not be possible. Instead, replace it with the mean. Use the `groupby` function to aggregate the variables with a mean value."
   ]
  },
  {
   "cell_type": "code",
   "execution_count": 18,
   "metadata": {},
   "outputs": [
    {
     "data": {
      "text/html": [
       "<div>\n",
       "<style scoped>\n",
       "    .dataframe tbody tr th:only-of-type {\n",
       "        vertical-align: middle;\n",
       "    }\n",
       "\n",
       "    .dataframe tbody tr th {\n",
       "        vertical-align: top;\n",
       "    }\n",
       "\n",
       "    .dataframe thead th {\n",
       "        text-align: right;\n",
       "    }\n",
       "</style>\n",
       "<table border=\"1\" class=\"dataframe\">\n",
       "  <thead>\n",
       "    <tr style=\"text-align: right;\">\n",
       "      <th></th>\n",
       "      <th>STATION</th>\n",
       "      <th>DATE</th>\n",
       "      <th>AWND</th>\n",
       "      <th>PRCP</th>\n",
       "      <th>SNOW</th>\n",
       "      <th>SNWD</th>\n",
       "      <th>TAVG</th>\n",
       "      <th>TMAX</th>\n",
       "      <th>TMIN</th>\n",
       "      <th>airport</th>\n",
       "      <th>MONTH</th>\n",
       "    </tr>\n",
       "  </thead>\n",
       "  <tbody>\n",
       "    <tr>\n",
       "      <th>0</th>\n",
       "      <td>USW00023174</td>\n",
       "      <td>2014-01-01</td>\n",
       "      <td>16</td>\n",
       "      <td>0</td>\n",
       "      <td>0.0</td>\n",
       "      <td>0.0</td>\n",
       "      <td>131.0</td>\n",
       "      <td>178.0</td>\n",
       "      <td>78.0</td>\n",
       "      <td>LAX</td>\n",
       "      <td>01</td>\n",
       "    </tr>\n",
       "    <tr>\n",
       "      <th>1</th>\n",
       "      <td>USW00023174</td>\n",
       "      <td>2014-01-02</td>\n",
       "      <td>22</td>\n",
       "      <td>0</td>\n",
       "      <td>0.0</td>\n",
       "      <td>0.0</td>\n",
       "      <td>159.0</td>\n",
       "      <td>256.0</td>\n",
       "      <td>100.0</td>\n",
       "      <td>LAX</td>\n",
       "      <td>01</td>\n",
       "    </tr>\n",
       "  </tbody>\n",
       "</table>\n",
       "</div>"
      ],
      "text/plain": [
       "       STATION        DATE  AWND  PRCP  SNOW  SNWD   TAVG   TMAX   TMIN  \\\n",
       "0  USW00023174  2014-01-01    16     0   0.0   0.0  131.0  178.0   78.0   \n",
       "1  USW00023174  2014-01-02    22     0   0.0   0.0  159.0  256.0  100.0   \n",
       "\n",
       "  airport MONTH  \n",
       "0     LAX    01  \n",
       "1     LAX    01  "
      ]
     },
     "execution_count": 18,
     "metadata": {},
     "output_type": "execute_result"
    }
   ],
   "source": [
    "# To Group by 'airport' and calculate the mean for 'TAVG', 'TMAX', and 'TMIN'\n",
    "weather_impute = weather.groupby(['airport']).agg({'TAVG': 'mean', 'TMAX': 'mean', 'TMIN': 'mean'}).reset_index()\n",
    "\n",
    "# Merging these mean values back to the original weather dataset to fill missing values\n",
    "weather = weather.merge(weather_impute, on='airport', suffixes=('', '_mean'))\n",
    "\n",
    "# To Replace missing values in TAVG, TMAX, TMIN with the mean value for that airport\n",
    "weather['TAVG'].fillna(weather['TAVG_mean'], inplace=True)\n",
    "weather['TMAX'].fillna(weather['TMAX_mean'], inplace=True)\n",
    "weather['TMIN'].fillna(weather['TMIN_mean'], inplace=True)\n",
    "\n",
    "# Dropping the temporary mean columns after imputation\n",
    "weather.drop(columns=['TAVG_mean', 'TMAX_mean', 'TMIN_mean'], inplace=True)\n",
    "\n",
    "# To Display first two rows\n",
    "weather.head(2)\n"
   ]
  },
  {
   "cell_type": "markdown",
   "metadata": {},
   "source": [
    "Merge the mean data with the weather data."
   ]
  },
  {
   "cell_type": "code",
   "execution_count": 19,
   "metadata": {},
   "outputs": [
    {
     "data": {
      "text/html": [
       "<div>\n",
       "<style scoped>\n",
       "    .dataframe tbody tr th:only-of-type {\n",
       "        vertical-align: middle;\n",
       "    }\n",
       "\n",
       "    .dataframe tbody tr th {\n",
       "        vertical-align: top;\n",
       "    }\n",
       "\n",
       "    .dataframe thead th {\n",
       "        text-align: right;\n",
       "    }\n",
       "</style>\n",
       "<table border=\"1\" class=\"dataframe\">\n",
       "  <thead>\n",
       "    <tr style=\"text-align: right;\">\n",
       "      <th></th>\n",
       "      <th>STATION</th>\n",
       "      <th>DATE</th>\n",
       "      <th>AWND</th>\n",
       "      <th>PRCP</th>\n",
       "      <th>SNOW</th>\n",
       "      <th>SNWD</th>\n",
       "      <th>TAVG</th>\n",
       "      <th>TMAX</th>\n",
       "      <th>TMIN</th>\n",
       "      <th>airport</th>\n",
       "      <th>MONTH</th>\n",
       "      <th>TAVG_AVG</th>\n",
       "      <th>TMAX_AVG</th>\n",
       "      <th>TMIN_AVG</th>\n",
       "    </tr>\n",
       "  </thead>\n",
       "  <tbody>\n",
       "    <tr>\n",
       "      <th>0</th>\n",
       "      <td>USW00023174</td>\n",
       "      <td>2014-01-01</td>\n",
       "      <td>16</td>\n",
       "      <td>0</td>\n",
       "      <td>0.0</td>\n",
       "      <td>0.0</td>\n",
       "      <td>131.0</td>\n",
       "      <td>178.0</td>\n",
       "      <td>78.0</td>\n",
       "      <td>LAX</td>\n",
       "      <td>01</td>\n",
       "      <td>181.254655</td>\n",
       "      <td>224.636364</td>\n",
       "      <td>146.18839</td>\n",
       "    </tr>\n",
       "    <tr>\n",
       "      <th>1</th>\n",
       "      <td>USW00023174</td>\n",
       "      <td>2014-01-02</td>\n",
       "      <td>22</td>\n",
       "      <td>0</td>\n",
       "      <td>0.0</td>\n",
       "      <td>0.0</td>\n",
       "      <td>159.0</td>\n",
       "      <td>256.0</td>\n",
       "      <td>100.0</td>\n",
       "      <td>LAX</td>\n",
       "      <td>01</td>\n",
       "      <td>181.254655</td>\n",
       "      <td>224.636364</td>\n",
       "      <td>146.18839</td>\n",
       "    </tr>\n",
       "    <tr>\n",
       "      <th>2</th>\n",
       "      <td>USW00023174</td>\n",
       "      <td>2014-01-03</td>\n",
       "      <td>17</td>\n",
       "      <td>0</td>\n",
       "      <td>0.0</td>\n",
       "      <td>0.0</td>\n",
       "      <td>140.0</td>\n",
       "      <td>178.0</td>\n",
       "      <td>83.0</td>\n",
       "      <td>LAX</td>\n",
       "      <td>01</td>\n",
       "      <td>181.254655</td>\n",
       "      <td>224.636364</td>\n",
       "      <td>146.18839</td>\n",
       "    </tr>\n",
       "    <tr>\n",
       "      <th>3</th>\n",
       "      <td>USW00023174</td>\n",
       "      <td>2014-01-04</td>\n",
       "      <td>18</td>\n",
       "      <td>0</td>\n",
       "      <td>0.0</td>\n",
       "      <td>0.0</td>\n",
       "      <td>136.0</td>\n",
       "      <td>183.0</td>\n",
       "      <td>100.0</td>\n",
       "      <td>LAX</td>\n",
       "      <td>01</td>\n",
       "      <td>181.254655</td>\n",
       "      <td>224.636364</td>\n",
       "      <td>146.18839</td>\n",
       "    </tr>\n",
       "    <tr>\n",
       "      <th>4</th>\n",
       "      <td>USW00023174</td>\n",
       "      <td>2014-01-05</td>\n",
       "      <td>18</td>\n",
       "      <td>0</td>\n",
       "      <td>0.0</td>\n",
       "      <td>0.0</td>\n",
       "      <td>151.0</td>\n",
       "      <td>244.0</td>\n",
       "      <td>83.0</td>\n",
       "      <td>LAX</td>\n",
       "      <td>01</td>\n",
       "      <td>181.254655</td>\n",
       "      <td>224.636364</td>\n",
       "      <td>146.18839</td>\n",
       "    </tr>\n",
       "  </tbody>\n",
       "</table>\n",
       "</div>"
      ],
      "text/plain": [
       "       STATION        DATE  AWND  PRCP  SNOW  SNWD   TAVG   TMAX   TMIN  \\\n",
       "0  USW00023174  2014-01-01    16     0   0.0   0.0  131.0  178.0   78.0   \n",
       "1  USW00023174  2014-01-02    22     0   0.0   0.0  159.0  256.0  100.0   \n",
       "2  USW00023174  2014-01-03    17     0   0.0   0.0  140.0  178.0   83.0   \n",
       "3  USW00023174  2014-01-04    18     0   0.0   0.0  136.0  183.0  100.0   \n",
       "4  USW00023174  2014-01-05    18     0   0.0   0.0  151.0  244.0   83.0   \n",
       "\n",
       "  airport MONTH    TAVG_AVG    TMAX_AVG   TMIN_AVG  \n",
       "0     LAX    01  181.254655  224.636364  146.18839  \n",
       "1     LAX    01  181.254655  224.636364  146.18839  \n",
       "2     LAX    01  181.254655  224.636364  146.18839  \n",
       "3     LAX    01  181.254655  224.636364  146.18839  \n",
       "4     LAX    01  181.254655  224.636364  146.18839  "
      ]
     },
     "execution_count": 19,
     "metadata": {},
     "output_type": "execute_result"
    }
   ],
   "source": [
    "# Merging the weather data with the imputed mean data\n",
    "weather = pd.merge(weather, weather_impute, how='left', on=['airport']) \\\n",
    "    .rename(columns={\n",
    "        'TAVG_y': 'TAVG_AVG',\n",
    "        'TMAX_y': 'TMAX_AVG',\n",
    "        'TMIN_y': 'TMIN_AVG',\n",
    "        'TAVG_x': 'TAVG',\n",
    "        'TMAX_x': 'TMAX',\n",
    "        'TMIN_x': 'TMIN'\n",
    "    })\n",
    "\n",
    "# To Display first few rows to verify the merge\n",
    "weather.head()\n"
   ]
  },
  {
   "cell_type": "markdown",
   "metadata": {},
   "source": [
    "Check for missing values again."
   ]
  },
  {
   "cell_type": "code",
   "execution_count": 20,
   "metadata": {},
   "outputs": [
    {
     "data": {
      "text/plain": [
       "STATION     0\n",
       "DATE        0\n",
       "AWND        0\n",
       "PRCP        0\n",
       "SNOW        0\n",
       "SNWD        0\n",
       "TAVG        0\n",
       "TMAX        0\n",
       "TMIN        0\n",
       "airport     0\n",
       "MONTH       0\n",
       "TAVG_AVG    0\n",
       "TMAX_AVG    0\n",
       "TMIN_AVG    0\n",
       "dtype: int64"
      ]
     },
     "execution_count": 20,
     "metadata": {},
     "output_type": "execute_result"
    }
   ],
   "source": [
    "weather.TAVG[TAVG_idx] = weather.TAVG_AVG[TAVG_idx]\n",
    "weather.TMAX[TMAX_idx] = weather.TMAX_AVG[TMAX_idx]\n",
    "weather.TMIN[TMIN_idx] = weather.TMIN_AVG[TMIN_idx]\n",
    "weather.isna().sum()"
   ]
  },
  {
   "cell_type": "markdown",
   "metadata": {},
   "source": [
    "Drop `STATION,MONTH,TAVG_AVG,TMAX_AVG,TMIN_AVG,TMAX,TMIN,SNWD` from the dataset"
   ]
  },
  {
   "cell_type": "code",
   "execution_count": 21,
   "metadata": {},
   "outputs": [],
   "source": [
    "weather.drop(columns=['STATION','MONTH','TAVG_AVG', 'TMAX_AVG', 'TMIN_AVG', 'TMAX' ,'TMIN', 'SNWD'],inplace=True)"
   ]
  },
  {
   "cell_type": "code",
   "execution_count": 30,
   "metadata": {},
   "outputs": [
    {
     "data": {
      "text/html": [
       "<div>\n",
       "<style scoped>\n",
       "    .dataframe tbody tr th:only-of-type {\n",
       "        vertical-align: middle;\n",
       "    }\n",
       "\n",
       "    .dataframe tbody tr th {\n",
       "        vertical-align: top;\n",
       "    }\n",
       "\n",
       "    .dataframe thead th {\n",
       "        text-align: right;\n",
       "    }\n",
       "</style>\n",
       "<table border=\"1\" class=\"dataframe\">\n",
       "  <thead>\n",
       "    <tr style=\"text-align: right;\">\n",
       "      <th></th>\n",
       "      <th>DATE</th>\n",
       "      <th>AWND</th>\n",
       "      <th>PRCP</th>\n",
       "      <th>SNOW</th>\n",
       "      <th>TAVG</th>\n",
       "      <th>airport</th>\n",
       "    </tr>\n",
       "  </thead>\n",
       "  <tbody>\n",
       "    <tr>\n",
       "      <th>0</th>\n",
       "      <td>2014-01-01</td>\n",
       "      <td>16</td>\n",
       "      <td>0</td>\n",
       "      <td>0.0</td>\n",
       "      <td>131.0</td>\n",
       "      <td>LAX</td>\n",
       "    </tr>\n",
       "    <tr>\n",
       "      <th>1</th>\n",
       "      <td>2014-01-02</td>\n",
       "      <td>22</td>\n",
       "      <td>0</td>\n",
       "      <td>0.0</td>\n",
       "      <td>159.0</td>\n",
       "      <td>LAX</td>\n",
       "    </tr>\n",
       "    <tr>\n",
       "      <th>2</th>\n",
       "      <td>2014-01-03</td>\n",
       "      <td>17</td>\n",
       "      <td>0</td>\n",
       "      <td>0.0</td>\n",
       "      <td>140.0</td>\n",
       "      <td>LAX</td>\n",
       "    </tr>\n",
       "    <tr>\n",
       "      <th>3</th>\n",
       "      <td>2014-01-04</td>\n",
       "      <td>18</td>\n",
       "      <td>0</td>\n",
       "      <td>0.0</td>\n",
       "      <td>136.0</td>\n",
       "      <td>LAX</td>\n",
       "    </tr>\n",
       "    <tr>\n",
       "      <th>4</th>\n",
       "      <td>2014-01-05</td>\n",
       "      <td>18</td>\n",
       "      <td>0</td>\n",
       "      <td>0.0</td>\n",
       "      <td>151.0</td>\n",
       "      <td>LAX</td>\n",
       "    </tr>\n",
       "  </tbody>\n",
       "</table>\n",
       "</div>"
      ],
      "text/plain": [
       "         DATE  AWND  PRCP  SNOW   TAVG airport\n",
       "0  2014-01-01    16     0   0.0  131.0     LAX\n",
       "1  2014-01-02    22     0   0.0  159.0     LAX\n",
       "2  2014-01-03    17     0   0.0  140.0     LAX\n",
       "3  2014-01-04    18     0   0.0  136.0     LAX\n",
       "4  2014-01-05    18     0   0.0  151.0     LAX"
      ]
     },
     "execution_count": 30,
     "metadata": {},
     "output_type": "execute_result"
    }
   ],
   "source": [
    "weather.head()"
   ]
  },
  {
   "cell_type": "code",
   "execution_count": null,
   "metadata": {},
   "outputs": [
    {
     "data": {
      "text/html": [
       "<div>\n",
       "<style scoped>\n",
       "    .dataframe tbody tr th:only-of-type {\n",
       "        vertical-align: middle;\n",
       "    }\n",
       "\n",
       "    .dataframe tbody tr th {\n",
       "        vertical-align: top;\n",
       "    }\n",
       "\n",
       "    .dataframe thead th {\n",
       "        text-align: right;\n",
       "    }\n",
       "</style>\n",
       "<table border=\"1\" class=\"dataframe\">\n",
       "  <thead>\n",
       "    <tr style=\"text-align: right;\">\n",
       "      <th></th>\n",
       "      <th>Year</th>\n",
       "      <th>Quarter</th>\n",
       "      <th>Month</th>\n",
       "      <th>DayofMonth</th>\n",
       "      <th>DayOfWeek</th>\n",
       "      <th>FlightDate</th>\n",
       "      <th>Reporting_Airline</th>\n",
       "      <th>Origin</th>\n",
       "      <th>OriginState</th>\n",
       "      <th>Dest</th>\n",
       "      <th>...</th>\n",
       "      <th>CRSDepTime</th>\n",
       "      <th>Cancelled</th>\n",
       "      <th>Diverted</th>\n",
       "      <th>Distance</th>\n",
       "      <th>DistanceGroup</th>\n",
       "      <th>ArrDelay</th>\n",
       "      <th>ArrDelayMinutes</th>\n",
       "      <th>ArrDel15</th>\n",
       "      <th>AirTime</th>\n",
       "      <th>is_holiday</th>\n",
       "    </tr>\n",
       "  </thead>\n",
       "  <tbody>\n",
       "    <tr>\n",
       "      <th>0</th>\n",
       "      <td>2014</td>\n",
       "      <td>1</td>\n",
       "      <td>1</td>\n",
       "      <td>26</td>\n",
       "      <td>7</td>\n",
       "      <td>2014-01-26</td>\n",
       "      <td>DL</td>\n",
       "      <td>ATL</td>\n",
       "      <td>GA</td>\n",
       "      <td>IAH</td>\n",
       "      <td>...</td>\n",
       "      <td>2145</td>\n",
       "      <td>0.0</td>\n",
       "      <td>0.0</td>\n",
       "      <td>689.0</td>\n",
       "      <td>3</td>\n",
       "      <td>-20.0</td>\n",
       "      <td>0.0</td>\n",
       "      <td>0.0</td>\n",
       "      <td>99.0</td>\n",
       "      <td>False</td>\n",
       "    </tr>\n",
       "    <tr>\n",
       "      <th>1</th>\n",
       "      <td>2014</td>\n",
       "      <td>1</td>\n",
       "      <td>1</td>\n",
       "      <td>26</td>\n",
       "      <td>7</td>\n",
       "      <td>2014-01-26</td>\n",
       "      <td>DL</td>\n",
       "      <td>DFW</td>\n",
       "      <td>TX</td>\n",
       "      <td>ATL</td>\n",
       "      <td>...</td>\n",
       "      <td>945</td>\n",
       "      <td>0.0</td>\n",
       "      <td>0.0</td>\n",
       "      <td>731.0</td>\n",
       "      <td>3</td>\n",
       "      <td>-3.0</td>\n",
       "      <td>0.0</td>\n",
       "      <td>0.0</td>\n",
       "      <td>98.0</td>\n",
       "      <td>False</td>\n",
       "    </tr>\n",
       "    <tr>\n",
       "      <th>2</th>\n",
       "      <td>2014</td>\n",
       "      <td>1</td>\n",
       "      <td>1</td>\n",
       "      <td>26</td>\n",
       "      <td>7</td>\n",
       "      <td>2014-01-26</td>\n",
       "      <td>DL</td>\n",
       "      <td>ATL</td>\n",
       "      <td>GA</td>\n",
       "      <td>DEN</td>\n",
       "      <td>...</td>\n",
       "      <td>1855</td>\n",
       "      <td>0.0</td>\n",
       "      <td>0.0</td>\n",
       "      <td>1199.0</td>\n",
       "      <td>5</td>\n",
       "      <td>-7.0</td>\n",
       "      <td>0.0</td>\n",
       "      <td>0.0</td>\n",
       "      <td>174.0</td>\n",
       "      <td>False</td>\n",
       "    </tr>\n",
       "    <tr>\n",
       "      <th>3</th>\n",
       "      <td>2014</td>\n",
       "      <td>1</td>\n",
       "      <td>1</td>\n",
       "      <td>26</td>\n",
       "      <td>7</td>\n",
       "      <td>2014-01-26</td>\n",
       "      <td>DL</td>\n",
       "      <td>ATL</td>\n",
       "      <td>GA</td>\n",
       "      <td>PHX</td>\n",
       "      <td>...</td>\n",
       "      <td>1634</td>\n",
       "      <td>0.0</td>\n",
       "      <td>0.0</td>\n",
       "      <td>1587.0</td>\n",
       "      <td>7</td>\n",
       "      <td>-4.0</td>\n",
       "      <td>0.0</td>\n",
       "      <td>0.0</td>\n",
       "      <td>233.0</td>\n",
       "      <td>False</td>\n",
       "    </tr>\n",
       "    <tr>\n",
       "      <th>4</th>\n",
       "      <td>2014</td>\n",
       "      <td>1</td>\n",
       "      <td>1</td>\n",
       "      <td>26</td>\n",
       "      <td>7</td>\n",
       "      <td>2014-01-26</td>\n",
       "      <td>DL</td>\n",
       "      <td>PHX</td>\n",
       "      <td>AZ</td>\n",
       "      <td>ATL</td>\n",
       "      <td>...</td>\n",
       "      <td>700</td>\n",
       "      <td>0.0</td>\n",
       "      <td>0.0</td>\n",
       "      <td>1587.0</td>\n",
       "      <td>7</td>\n",
       "      <td>-13.0</td>\n",
       "      <td>0.0</td>\n",
       "      <td>0.0</td>\n",
       "      <td>179.0</td>\n",
       "      <td>False</td>\n",
       "    </tr>\n",
       "  </tbody>\n",
       "</table>\n",
       "<p>5 rows × 21 columns</p>\n",
       "</div>"
      ],
      "text/plain": [
       "   Year  Quarter  Month  DayofMonth  DayOfWeek FlightDate Reporting_Airline  \\\n",
       "0  2014        1      1          26          7 2014-01-26                DL   \n",
       "1  2014        1      1          26          7 2014-01-26                DL   \n",
       "2  2014        1      1          26          7 2014-01-26                DL   \n",
       "3  2014        1      1          26          7 2014-01-26                DL   \n",
       "4  2014        1      1          26          7 2014-01-26                DL   \n",
       "\n",
       "  Origin OriginState Dest  ... CRSDepTime  Cancelled  Diverted  Distance  \\\n",
       "0    ATL          GA  IAH  ...       2145        0.0       0.0     689.0   \n",
       "1    DFW          TX  ATL  ...        945        0.0       0.0     731.0   \n",
       "2    ATL          GA  DEN  ...       1855        0.0       0.0    1199.0   \n",
       "3    ATL          GA  PHX  ...       1634        0.0       0.0    1587.0   \n",
       "4    PHX          AZ  ATL  ...        700        0.0       0.0    1587.0   \n",
       "\n",
       "   DistanceGroup  ArrDelay  ArrDelayMinutes  ArrDel15  AirTime  is_holiday  \n",
       "0              3     -20.0              0.0       0.0     99.0       False  \n",
       "1              3      -3.0              0.0       0.0     98.0       False  \n",
       "2              5      -7.0              0.0       0.0    174.0       False  \n",
       "3              7      -4.0              0.0       0.0    233.0       False  \n",
       "4              7     -13.0              0.0       0.0    179.0       False  \n",
       "\n",
       "[5 rows x 21 columns]"
      ]
     },
     "execution_count": 29,
     "metadata": {},
     "output_type": "execute_result"
    }
   ],
   "source": [
    "data_orig.head()"
   ]
  },
  {
   "cell_type": "markdown",
   "metadata": {},
   "source": [
    "Add the origin and destination weather conditions to the dataset."
   ]
  },
  {
   "cell_type": "code",
   "execution_count": null,
   "metadata": {},
   "outputs": [
    {
     "name": "stdout",
     "output_type": "stream",
     "text": [
      "   Year  Quarter  Month  DayofMonth  DayOfWeek FlightDate Reporting_Airline  \\\n",
      "0  2014        1      1          26          7 2014-01-26                DL   \n",
      "1  2014        1      1          26          7 2014-01-26                DL   \n",
      "2  2014        1      1          26          7 2014-01-26                DL   \n",
      "3  2014        1      1          26          7 2014-01-26                DL   \n",
      "4  2014        1      1          26          7 2014-01-26                DL   \n",
      "\n",
      "  Origin OriginState Dest  ... AirTime  is_holiday  AWND_O  PRCP_O  SNOW_O  \\\n",
      "0    ATL          GA  IAH  ...    99.0       False      33       0     0.0   \n",
      "1    DFW          TX  ATL  ...    98.0       False      39       0     0.0   \n",
      "2    ATL          GA  DEN  ...   174.0       False      33       0     0.0   \n",
      "3    ATL          GA  PHX  ...   233.0       False      33       0     0.0   \n",
      "4    PHX          AZ  ATL  ...   179.0       False      20       0     0.0   \n",
      "\n",
      "   TAVG_O  AWND_D  PRCP_D  SNOW_D  TAVG_D  \n",
      "0    54.0      30       0     0.0   130.0  \n",
      "1   136.0      33       0     0.0    54.0  \n",
      "2    54.0      77       0     0.0    68.0  \n",
      "3    54.0      20       0     0.0   165.0  \n",
      "4   165.0      33       0     0.0    54.0  \n",
      "\n",
      "[5 rows x 29 columns]\n"
     ]
    }
   ],
   "source": [
    "# To ensure 'FlightDate' and 'DATE' are in datetime format\n",
    "data_orig['FlightDate'] = pd.to_datetime(data_orig['FlightDate'])\n",
    "weather['DATE'] = pd.to_datetime(weather['DATE'])\n",
    "\n",
    "# To ensure 'Origin', 'Dest', and 'airport' are in string format\n",
    "data_orig['Origin'] = data_orig['Origin'].astype(str)\n",
    "data_orig['Dest'] = data_orig['Dest'].astype(str)\n",
    "weather['airport'] = weather['airport'].astype(str)\n",
    "\n",
    "# Merging origin weather conditions\n",
    "data_orig = pd.merge(data_orig, weather, how='left', \n",
    "                     left_on=['FlightDate', 'Origin'], \n",
    "                     right_on=['DATE', 'airport']) \\\n",
    "              .rename(columns={'AWND': 'AWND_O', 'PRCP': 'PRCP_O', \n",
    "                               'TAVG': 'TAVG_O', 'SNOW': 'SNOW_O'}) \\\n",
    "              .drop(columns=['DATE', 'airport'])\n",
    "\n",
    "# Merging destination weather conditions\n",
    "data_orig = pd.merge(data_orig, weather, how='left', \n",
    "                     left_on=['FlightDate', 'Dest'], \n",
    "                     right_on=['DATE', 'airport']) \\\n",
    "              .rename(columns={'AWND': 'AWND_D', 'PRCP': 'PRCP_D', \n",
    "                               'TAVG': 'TAVG_D', 'SNOW': 'SNOW_D'}) \\\n",
    "              .drop(columns=['DATE', 'airport'])\n",
    "\n",
    "# To Display the first few rows to verify the result\n",
    "print(data_orig.head())\n",
    "\n"
   ]
  },
  {
   "cell_type": "markdown",
   "metadata": {},
   "source": [
    "**Note**: It is always a good practice to check nulls/NAs after joins."
   ]
  },
  {
   "cell_type": "code",
   "execution_count": null,
   "metadata": {},
   "outputs": [
    {
     "name": "stdout",
     "output_type": "stream",
     "text": [
      "  CRSDepTime  DepHourofDay\n",
      "0       2145            21\n",
      "1        945            94\n",
      "2       1855            18\n",
      "3       1634            16\n",
      "4        700            70\n"
     ]
    }
   ],
   "source": [
    "# Ensuring CRSDepTime is a string to extract hour properly\n",
    "data_orig['CRSDepTime'] = data_orig['CRSDepTime'].astype(str)\n",
    "\n",
    "# To Extract the hour and convert to integer\n",
    "data_orig['DepHourofDay'] = data_orig['CRSDepTime'].str[:2].astype(int)\n",
    "\n",
    "# Display of the first few rows to verify the result\n",
    "print(data_orig[['CRSDepTime', 'DepHourofDay']].head())"
   ]
  },
  {
   "cell_type": "code",
   "execution_count": null,
   "metadata": {},
   "outputs": [
    {
     "name": "stdout",
     "output_type": "stream",
     "text": [
      "ArrDelay           22540\n",
      "ArrDelayMinutes    22540\n",
      "ArrDel15           22540\n",
      "AirTime            22540\n",
      "dtype: int64\n"
     ]
    }
   ],
   "source": [
    "# Display of the count of NA values for each column\n",
    "na_counts = data_orig.isna().sum()\n",
    "\n",
    "# Filtering and display of only columns with NA values\n",
    "na_counts_with_na = na_counts[na_counts > 0]\n",
    "print(na_counts_with_na)\n"
   ]
  },
  {
   "cell_type": "code",
   "execution_count": 39,
   "metadata": {},
   "outputs": [
    {
     "name": "stdout",
     "output_type": "stream",
     "text": [
      "Year                 0\n",
      "Quarter              0\n",
      "Month                0\n",
      "DayofMonth           0\n",
      "DayOfWeek            0\n",
      "FlightDate           0\n",
      "Reporting_Airline    0\n",
      "Origin               0\n",
      "OriginState          0\n",
      "Dest                 0\n",
      "DestState            0\n",
      "CRSDepTime           0\n",
      "Cancelled            0\n",
      "Diverted             0\n",
      "Distance             0\n",
      "DistanceGroup        0\n",
      "ArrDelay             0\n",
      "ArrDelayMinutes      0\n",
      "ArrDel15             0\n",
      "AirTime              0\n",
      "is_holiday           0\n",
      "AWND_O               0\n",
      "PRCP_O               0\n",
      "SNOW_O               0\n",
      "TAVG_O               0\n",
      "AWND_D               0\n",
      "PRCP_D               0\n",
      "SNOW_D               0\n",
      "TAVG_D               0\n",
      "DepHourofDay         0\n",
      "dtype: int64\n"
     ]
    }
   ],
   "source": [
    "# Dropping rows with any NA values\n",
    "data_orig = data_orig.dropna()\n",
    "\n",
    "# Check of any remaining NA values\n",
    "print(data_orig.isna().sum())"
   ]
  },
  {
   "cell_type": "code",
   "execution_count": 40,
   "metadata": {},
   "outputs": [],
   "source": [
    "# Renaming of the column 'ArrDel15' to 'is_delay'\n",
    "data_orig = data_orig.rename(columns={'ArrDel15': 'is_delay'})"
   ]
  },
  {
   "cell_type": "code",
   "execution_count": 41,
   "metadata": {},
   "outputs": [
    {
     "data": {
      "text/plain": [
       "Index(['Year', 'Quarter', 'Month', 'DayofMonth', 'DayOfWeek', 'FlightDate',\n",
       "       'Reporting_Airline', 'Origin', 'OriginState', 'Dest', 'DestState',\n",
       "       'CRSDepTime', 'Cancelled', 'Diverted', 'Distance', 'DistanceGroup',\n",
       "       'ArrDelay', 'ArrDelayMinutes', 'is_delay', 'AirTime', 'is_holiday',\n",
       "       'AWND_O', 'PRCP_O', 'SNOW_O', 'TAVG_O', 'AWND_D', 'PRCP_D', 'SNOW_D',\n",
       "       'TAVG_D', 'DepHourofDay'],\n",
       "      dtype='object')"
      ]
     },
     "execution_count": 41,
     "metadata": {},
     "output_type": "execute_result"
    }
   ],
   "source": [
    "data_orig.columns"
   ]
  },
  {
   "cell_type": "markdown",
   "metadata": {},
   "source": [
    "Convert the categorical data into numerical data using one-hot encoding."
   ]
  },
  {
   "cell_type": "code",
   "execution_count": null,
   "metadata": {},
   "outputs": [],
   "source": [
    " # Converting the categorical data into numerical data using one-hot encoding.\n",
    "data = data_orig.copy()\n",
    "data = data[['is_delay', 'Year', 'Quarter', 'Month', 'DayofMonth', 'DayOfWeek', \n",
    "       'Reporting_Airline', 'Origin', 'Dest','Distance','DepHourofDay','is_holiday', 'AWND_O', 'PRCP_O',\n",
    "       'TAVG_O', 'AWND_D', 'PRCP_D', 'TAVG_D', 'SNOW_O', 'SNOW_D']]\n",
    "\n",
    "\n",
    "categorical_columns  = ['Year', 'Quarter', 'Month', 'DayofMonth', 'DayOfWeek', \n",
    "       'Reporting_Airline', 'Origin', 'Dest', 'is_holiday']\n",
    "for c in categorical_columns:\n",
    "    data[c] = data[c].astype('category')"
   ]
  },
  {
   "cell_type": "code",
   "execution_count": 43,
   "metadata": {},
   "outputs": [
    {
     "name": "stdout",
     "output_type": "stream",
     "text": [
      "   is_delay  Distance  DepHourofDay  AWND_O  PRCP_O  TAVG_O  AWND_D  PRCP_D  \\\n",
      "0       0.0     689.0            21      33       0    54.0      30       0   \n",
      "1       0.0     731.0            94      39       0   136.0      33       0   \n",
      "2       0.0    1199.0            18      33       0    54.0      77       0   \n",
      "3       0.0    1587.0            16      33       0    54.0      20       0   \n",
      "4       0.0    1587.0            70      20       0   165.0      33       0   \n",
      "\n",
      "   TAVG_D  SNOW_O  ...  Origin_SFO  Dest_CLT  Dest_DEN  Dest_DFW  Dest_IAH  \\\n",
      "0   130.0     0.0  ...       False     False     False     False      True   \n",
      "1    54.0     0.0  ...       False     False     False     False     False   \n",
      "2    68.0     0.0  ...       False     False      True     False     False   \n",
      "3   165.0     0.0  ...       False     False     False     False     False   \n",
      "4    54.0     0.0  ...       False     False     False     False     False   \n",
      "\n",
      "   Dest_LAX  Dest_ORD  Dest_PHX  Dest_SFO  is_holiday_True  \n",
      "0     False     False     False     False            False  \n",
      "1     False     False     False     False            False  \n",
      "2     False     False     False     False            False  \n",
      "3     False     False      True     False            False  \n",
      "4     False     False     False     False            False  \n",
      "\n",
      "[5 rows x 86 columns]\n"
     ]
    }
   ],
   "source": [
    "# Specify categorical columns for one-hot encoding\n",
    "categorical_columns = ['Year', 'Quarter', 'Month', 'DayofMonth', 'DayOfWeek', \n",
    "                       'Reporting_Airline', 'Origin', 'Dest', 'is_holiday']\n",
    "\n",
    "# Generate dummy variables for categorical columns, dropping the first to avoid multicollinearity\n",
    "data_dummies = pd.get_dummies(data[categorical_columns], drop_first=True)\n",
    "\n",
    "# Concatenate the dummy variables with the original dataframe\n",
    "data = pd.concat([data, data_dummies], axis=1)\n",
    "\n",
    "# Drop the original categorical columns\n",
    "data.drop(columns=categorical_columns, inplace=True)\n",
    "\n",
    "# Display the updated dataframe to verify changes\n",
    "print(data.head())\n"
   ]
  },
  {
   "cell_type": "markdown",
   "metadata": {},
   "source": [
    "### Sample code\n",
    "\n",
    "```\n",
    "data_dummies = pd.get_dummies(data[['Year', 'Quarter', 'Month', 'DayofMonth', 'DayOfWeek', 'Reporting_Airline', 'Origin', 'Dest', 'is_holiday']], drop_first=True)\n",
    "data = pd.concat([data, data_dummies], axis = 1)\n",
    "categorical_columns.remove('is_delay')\n",
    "data.drop(categorical_columns,axis=1, inplace=True)\n",
    "```"
   ]
  },
  {
   "cell_type": "markdown",
   "metadata": {},
   "source": [
    "Check the new columns."
   ]
  },
  {
   "cell_type": "code",
   "execution_count": 47,
   "metadata": {},
   "outputs": [
    {
     "data": {
      "text/plain": [
       "Index(['target', 'Distance', 'DepHourofDay', 'AWND_O', 'PRCP_O', 'TAVG_O',\n",
       "       'AWND_D', 'PRCP_D', 'TAVG_D', 'SNOW_O', 'SNOW_D', 'Year_2015',\n",
       "       'Year_2016', 'Year_2017', 'Year_2018', 'Quarter_2', 'Quarter_3',\n",
       "       'Quarter_4', 'Month_2', 'Month_3', 'Month_4', 'Month_5', 'Month_6',\n",
       "       'Month_7', 'Month_8', 'Month_9', 'Month_10', 'Month_11', 'Month_12',\n",
       "       'DayofMonth_2', 'DayofMonth_3', 'DayofMonth_4', 'DayofMonth_5',\n",
       "       'DayofMonth_6', 'DayofMonth_7', 'DayofMonth_8', 'DayofMonth_9',\n",
       "       'DayofMonth_10', 'DayofMonth_11', 'DayofMonth_12', 'DayofMonth_13',\n",
       "       'DayofMonth_14', 'DayofMonth_15', 'DayofMonth_16', 'DayofMonth_17',\n",
       "       'DayofMonth_18', 'DayofMonth_19', 'DayofMonth_20', 'DayofMonth_21',\n",
       "       'DayofMonth_22', 'DayofMonth_23', 'DayofMonth_24', 'DayofMonth_25',\n",
       "       'DayofMonth_26', 'DayofMonth_27', 'DayofMonth_28', 'DayofMonth_29',\n",
       "       'DayofMonth_30', 'DayofMonth_31', 'DayOfWeek_2', 'DayOfWeek_3',\n",
       "       'DayOfWeek_4', 'DayOfWeek_5', 'DayOfWeek_6', 'DayOfWeek_7',\n",
       "       'Reporting_Airline_DL', 'Reporting_Airline_OO', 'Reporting_Airline_UA',\n",
       "       'Reporting_Airline_WN', 'Origin_CLT', 'Origin_DEN', 'Origin_DFW',\n",
       "       'Origin_IAH', 'Origin_LAX', 'Origin_ORD', 'Origin_PHX', 'Origin_SFO',\n",
       "       'Dest_CLT', 'Dest_DEN', 'Dest_DFW', 'Dest_IAH', 'Dest_LAX', 'Dest_ORD',\n",
       "       'Dest_PHX', 'Dest_SFO', 'is_holiday_True'],\n",
       "      dtype='object')"
      ]
     },
     "execution_count": 47,
     "metadata": {},
     "output_type": "execute_result"
    }
   ],
   "source": [
    "data.columns"
   ]
  },
  {
   "cell_type": "markdown",
   "metadata": {},
   "source": [
    "### Sample output\n",
    "\n",
    "```\n",
    "Index(['Distance', 'DepHourofDay', 'is_delay', 'AWND_O', 'PRCP_O', 'TAVG_O',\n",
    "       'AWND_D', 'PRCP_D', 'TAVG_D', 'SNOW_O', 'SNOW_D', 'Year_2015',\n",
    "       'Year_2016', 'Year_2017', 'Year_2018', 'Quarter_2', 'Quarter_3',\n",
    "       'Quarter_4', 'Month_2', 'Month_3', 'Month_4', 'Month_5', 'Month_6',\n",
    "       'Month_7', 'Month_8', 'Month_9', 'Month_10', 'Month_11', 'Month_12',\n",
    "       'DayofMonth_2', 'DayofMonth_3', 'DayofMonth_4', 'DayofMonth_5',\n",
    "       'DayofMonth_6', 'DayofMonth_7', 'DayofMonth_8', 'DayofMonth_9',\n",
    "       'DayofMonth_10', 'DayofMonth_11', 'DayofMonth_12', 'DayofMonth_13',\n",
    "       'DayofMonth_14', 'DayofMonth_15', 'DayofMonth_16', 'DayofMonth_17',\n",
    "       'DayofMonth_18', 'DayofMonth_19', 'DayofMonth_20', 'DayofMonth_21',\n",
    "       'DayofMonth_22', 'DayofMonth_23', 'DayofMonth_24', 'DayofMonth_25',\n",
    "       'DayofMonth_26', 'DayofMonth_27', 'DayofMonth_28', 'DayofMonth_29',\n",
    "       'DayofMonth_30', 'DayofMonth_31', 'DayOfWeek_2', 'DayOfWeek_3',\n",
    "       'DayOfWeek_4', 'DayOfWeek_5', 'DayOfWeek_6', 'DayOfWeek_7',\n",
    "       'Reporting_Airline_DL', 'Reporting_Airline_OO', 'Reporting_Airline_UA',\n",
    "       'Reporting_Airline_WN', 'Origin_CLT', 'Origin_DEN', 'Origin_DFW',\n",
    "       'Origin_IAH', 'Origin_LAX', 'Origin_ORD', 'Origin_PHX', 'Origin_SFO',\n",
    "       'Dest_CLT', 'Dest_DEN', 'Dest_DFW', 'Dest_IAH', 'Dest_LAX', 'Dest_ORD',\n",
    "       'Dest_PHX', 'Dest_SFO', 'is_holiday_1'],\n",
    "      dtype='object')\n",
    "```"
   ]
  },
  {
   "cell_type": "markdown",
   "metadata": {},
   "source": [
    "Rename the `is_delay` column to `target` again. Use the same code as before."
   ]
  },
  {
   "cell_type": "code",
   "execution_count": 45,
   "metadata": {},
   "outputs": [],
   "source": [
    "data.rename(columns = {'is_delay':'target'}, inplace=True )# Enter your code here"
   ]
  },
  {
   "cell_type": "code",
   "execution_count": 48,
   "metadata": {},
   "outputs": [],
   "source": [
    "# code to Save the new combined csv file (combined_csv_v2.csv) to your local computer\n",
    "data.to_csv('combined_csv_v2.csv')\n",
    "# note this combined file is to be also used in part B"
   ]
  },
  {
   "cell_type": "markdown",
   "metadata": {},
   "source": [
    "Create the training and testing sets again."
   ]
  },
  {
   "cell_type": "code",
   "execution_count": null,
   "metadata": {},
   "outputs": [],
   "source": [
    "# loading the data\n",
    "data = pd.read_csv('combined_csv_v2.csv')"
   ]
  },
  {
   "cell_type": "code",
   "execution_count": null,
   "metadata": {},
   "outputs": [
    {
     "name": "stdout",
     "output_type": "stream",
     "text": [
      "Accuracy: 0.7903233695486033\n",
      "Confusion Matrix:\n",
      "[[256043   2378]\n",
      " [ 66211   2486]]\n",
      "Classification Report:\n",
      "              precision    recall  f1-score   support\n",
      "\n",
      "         0.0       0.79      0.99      0.88    258421\n",
      "         1.0       0.51      0.04      0.07     68697\n",
      "\n",
      "    accuracy                           0.79    327118\n",
      "   macro avg       0.65      0.51      0.47    327118\n",
      "weighted avg       0.74      0.79      0.71    327118\n",
      "\n"
     ]
    }
   ],
   "source": [
    "# Loading Necessary Libraries\n",
    "from sklearn.model_selection import train_test_split\n",
    "from sklearn.linear_model import LogisticRegression\n",
    "from sklearn.metrics import accuracy_score, confusion_matrix, classification_report\n",
    "\n",
    "# Adjusting features(X) and target(y) variables\n",
    "X = data.drop(['target'], axis=1)  # Dropping the target column as it's the dependent variable\n",
    "y = data['target']  # Target column\n",
    "\n",
    "# Splitting the data into training and test sets (80% training, 20% test)\n",
    "X_train, X_test, y_train, y_test = train_test_split(X, y, test_size=0.2, random_state=42)\n",
    "\n",
    "# Initialization of the logistic regression model\n",
    "model = LogisticRegression(max_iter=1000)\n",
    "\n",
    "# Training of the model\n",
    "model.fit(X_train, y_train)\n",
    "\n",
    "# To make predictions on the test set\n",
    "y_pred = model.predict(X_test)\n",
    "\n",
    "# Evaluation of the model\n",
    "accuracy = accuracy_score(y_test, y_pred)\n",
    "conf_matrix = confusion_matrix(y_test, y_pred)\n",
    "class_report = classification_report(y_test, y_pred)\n",
    "\n",
    "# To show results\n",
    "print(f\"Accuracy: {accuracy}\")\n",
    "print(\"Confusion Matrix:\")\n",
    "print(conf_matrix)\n",
    "print(\"Classification Report:\")\n",
    "print(class_report)\n"
   ]
  },
  {
   "cell_type": "markdown",
   "metadata": {},
   "source": [
    "**Evaluation Report:**\n",
    "\n",
    "The model is performing well for class 0 (no delay), but poorly for class 1 (delay) which is the minority class here.For class 1, low recall and F1-score for class 1 suggest that the model is biased toward predicting class 0. Though there is slight improvement from the previous model, meaning extra features have helped but not significant enough for an acceptable model. The issue of one class outnumbering the other could not be solved here.\n",
    "\n",
    "Given the high recall and precision for class 0 (no delay) and the low values for class 1 (delay), it seems the model is prone to predict class 0 most of the time, which results in a high accuracy but poor performance for class 1. THe ability to detect class 1 is very poor for this model"
   ]
  },
  {
   "cell_type": "markdown",
   "metadata": {},
   "source": [
    "### New baseline classifier\n",
    "\n",
    "Now, see if these new features add any predictive power to the model."
   ]
  },
  {
   "cell_type": "code",
   "execution_count": null,
   "metadata": {},
   "outputs": [
    {
     "name": "stdout",
     "output_type": "stream",
     "text": [
      "Baseline Accuracy: 0.7899932134581404\n",
      "Baseline Confusion Matrix:\n",
      "[[258421      0]\n",
      " [ 68697      0]]\n",
      "Baseline Classification Report:\n",
      "              precision    recall  f1-score   support\n",
      "\n",
      "         0.0       0.79      1.00      0.88    258421\n",
      "         1.0       0.00      0.00      0.00     68697\n",
      "\n",
      "    accuracy                           0.79    327118\n",
      "   macro avg       0.39      0.50      0.44    327118\n",
      "weighted avg       0.62      0.79      0.70    327118\n",
      "\n"
     ]
    }
   ],
   "source": [
    "# Loading Libraries\n",
    "from sklearn.dummy import DummyClassifier\n",
    "\n",
    "\n",
    "# Adjusting data into features (X) and target (y)\n",
    "X = data.drop(['target'], axis=1)  \n",
    "y = data['target']  \n",
    "\n",
    "# Splitting the data into training and test sets (80% training, 20% test)\n",
    "X_train, X_test, y_train, y_test = train_test_split(X, y, test_size=0.2, random_state=42)\n",
    "\n",
    "# Initialization the DummyClassifier with strategy='most_frequent'\n",
    "baseline_model = DummyClassifier(strategy='most_frequent')\n",
    "\n",
    "# Training the baseline model\n",
    "baseline_model.fit(X_train, y_train)\n",
    "\n",
    "# To Make predictions on the test set\n",
    "y_pred_baseline = baseline_model.predict(X_test)\n",
    "\n",
    "# Evaluation of the baseline model\n",
    "accuracy_baseline = accuracy_score(y_test, y_pred_baseline)\n",
    "conf_matrix_baseline = confusion_matrix(y_test, y_pred_baseline)\n",
    "class_report_baseline = classification_report(y_test, y_pred_baseline)\n",
    "\n",
    "# To display baseline results\n",
    "print(f\"Baseline Accuracy: {accuracy_baseline}\")\n",
    "print(\"Baseline Confusion Matrix:\")\n",
    "print(conf_matrix_baseline)\n",
    "print(\"Baseline Classification Report:\")\n",
    "print(class_report_baseline)\n"
   ]
  },
  {
   "cell_type": "markdown",
   "metadata": {},
   "source": [
    "**Baseline Classification Evaluation:**\n",
    "\n",
    "The matrix shows a large number of True Negatives, correct predictions for the majority class 0. But is shows low values (zero) for True Positives and False Negatives in class 1 case, as there are class imbalances in the dataset.\n",
    "\n",
    "The baseline classification reports good precision and recall for the majority class 0, but very poor performance (zero precision, recall, and F1-score) for the minority class 1."
   ]
  },
  {
   "cell_type": "markdown",
   "metadata": {},
   "source": [
    "Perform the evaluaion as you have done with the previous model and plot/show the same metrics"
   ]
  },
  {
   "cell_type": "code",
   "execution_count": null,
   "metadata": {},
   "outputs": [
    {
     "data": {
      "image/png": "[encoded data removed]",
      "text/plain": [
       "<Figure size 1200x800 with 3 Axes>"
      ]
     },
     "metadata": {},
     "output_type": "display_data"
    }
   ],
   "source": [
    "# Looking into the relation between weather parametres and target classes (no delay, delay) for Origin\n",
    "\n",
    "# Setting the figure size\n",
    "plt.figure(figsize=(12, 8))\n",
    "\n",
    "# Creating subplots for each feature vs target\n",
    "plt.subplot(3, 1, 1)\n",
    "sns.boxplot(x='target', y='AWND_O', data=data)\n",
    "plt.title('AWND_O vs Target')\n",
    "\n",
    "plt.subplot(3, 1, 2)\n",
    "sns.boxplot(x='target', y='PRCP_O', data=data)\n",
    "plt.title('PRCP_O vs Target')\n",
    "\n",
    "plt.subplot(3, 1, 3)\n",
    "sns.boxplot(x='target', y='TAVG_O', data=data)\n",
    "plt.title('TAVG_O vs Target')\n",
    "\n",
    "# Adjustment of layout for better visibility\n",
    "plt.tight_layout()\n",
    "plt.show()\n"
   ]
  },
  {
   "cell_type": "code",
   "execution_count": null,
   "metadata": {},
   "outputs": [
    {
     "name": "stdout",
     "output_type": "stream",
     "text": [
      "Correlation between TAVG_O and Target: -0.002993062521895276\n",
      "Correlation between PRCP_O and Target: 0.10392464866141739\n",
      "Correlation between AWND_O and Target: 0.045660708672408956\n"
     ]
    }
   ],
   "source": [
    "# Loading Libraries\n",
    "import scipy.stats as stats\n",
    "\n",
    "# Calculation of point-biserial correlation between the target and each feature\n",
    "correlation_tavg = stats.pointbiserialr(data['target'], data['TAVG_O'])[0]\n",
    "correlation_prcp = stats.pointbiserialr(data['target'], data['PRCP_O'])[0]\n",
    "correlation_awnd = stats.pointbiserialr(data['target'], data['AWND_O'])[0]\n",
    "\n",
    "# To Display the results\n",
    "print(f\"Correlation between TAVG_O and Target: {correlation_tavg}\")\n",
    "print(f\"Correlation between PRCP_O and Target: {correlation_prcp}\")\n",
    "print(f\"Correlation between AWND_O and Target: {correlation_awnd}\")\n"
   ]
  },
  {
   "cell_type": "markdown",
   "metadata": {},
   "source": [
    "**Result Evaluation Origin:**\n",
    "\n",
    "Class 1 (delay) has slight and negligible correlation between precipation(rain) and air wind. Class 0 shows a negligible positive correlation with temperature increase.\n"
   ]
  },
  {
   "cell_type": "code",
   "execution_count": 9,
   "metadata": {},
   "outputs": [
    {
     "data": {
      "image/png": "[encoded data removed]",
      "text/plain": [
       "<Figure size 1200x800 with 3 Axes>"
      ]
     },
     "metadata": {},
     "output_type": "display_data"
    }
   ],
   "source": [
    "# Looking into the relation between weather parametres and target classes (no delay, delay) for Destination\n",
    "\n",
    "# Setting the figure size\n",
    "plt.figure(figsize=(12, 8))\n",
    "\n",
    "# Creating subplots for each feature vs target\n",
    "plt.subplot(3, 1, 1)\n",
    "sns.boxplot(x='target', y='AWND_D', data=data)\n",
    "plt.title('AWND_D vs Target')\n",
    "\n",
    "plt.subplot(3, 1, 2)\n",
    "sns.boxplot(x='target', y='PRCP_D', data=data)\n",
    "plt.title('PRCP_D vs Target')\n",
    "\n",
    "plt.subplot(3, 1, 3)\n",
    "sns.boxplot(x='target', y='TAVG_D', data=data)\n",
    "plt.title('TAVG_D vs Target')\n",
    "\n",
    "# Adjustment of layout for better visibility\n",
    "plt.tight_layout()\n",
    "plt.show()\n"
   ]
  },
  {
   "cell_type": "code",
   "execution_count": 10,
   "metadata": {},
   "outputs": [
    {
     "name": "stdout",
     "output_type": "stream",
     "text": [
      "Correlation between TAVG_D and Target: 0.007336436549567389\n",
      "Correlation between PRCP_D and Target: 0.09483242661681549\n",
      "Correlation between AWND_D and Target: 0.04573607970125702\n"
     ]
    }
   ],
   "source": [
    "# Loading Libraries\n",
    "import scipy.stats as stats\n",
    "\n",
    "# Calculation of point-biserial correlation between the target and each feature\n",
    "correlation_tavg_d = stats.pointbiserialr(data['target'], data['TAVG_D'])[0]\n",
    "correlation_prcp_d = stats.pointbiserialr(data['target'], data['PRCP_D'])[0]\n",
    "correlation_awnd_d = stats.pointbiserialr(data['target'], data['AWND_D'])[0]\n",
    "\n",
    "# To Display the results\n",
    "print(f\"Correlation between TAVG_D and Target: {correlation_tavg_d}\")\n",
    "print(f\"Correlation between PRCP_D and Target: {correlation_prcp_d}\")\n",
    "print(f\"Correlation between AWND_D and Target: {correlation_awnd_d}\")"
   ]
  },
  {
   "cell_type": "markdown",
   "metadata": {},
   "source": [
    "**Result Evaluation Destination:**\n",
    "\n",
    "There is ever so slight positive relation between weather parametres and destination airports. It may well have helped to predict the arrival delay a little bit better but the improvement was not significant."
   ]
  },
  {
   "cell_type": "code",
   "execution_count": null,
   "metadata": {},
   "outputs": [
    {
     "name": "stdout",
     "output_type": "stream",
     "text": [
      "Correlation between Target and is_holiday: -0.002254299815515058\n"
     ]
    }
   ],
   "source": [
    "# Converting 'is_holiday' to 1 (True) and 0 (False)\n",
    "data['is_holiday_numeric'] = data['is_holiday_True'].astype(int)\n",
    "\n",
    "# Calculating point-biserial correlation between target and is_holiday\n",
    "correlation_holiday_target = stats.pointbiserialr(data['target'], data['is_holiday_numeric'])[0]\n",
    "\n",
    "# To Display the result\n",
    "print(f\"Correlation between Target and is_holiday: {correlation_holiday_target}\")\n"
   ]
  },
  {
   "cell_type": "markdown",
   "metadata": {},
   "source": [
    "> Flight delay is not related with holidays."
   ]
  },
  {
   "cell_type": "markdown",
   "metadata": {},
   "source": [
    "Question: did you notice a difference by adding the extra data on the results?"
   ]
  },
  {
   "cell_type": "markdown",
   "metadata": {},
   "source": [
    "\n",
    "The was slight improvement in accuracy, precision, recalls and other parametres with added features, compared to the first model. But it is not significant enough to make accurate prediction and the confusion matrix showed that there were significant amount of True Positives that could not be identified. A more robust model is required to work with this dataset.\n",
    "\n",
    "But one thing is noticable that, added features did affect and improved the model, be it very little."
   ]
  },
  {
   "cell_type": "markdown",
   "metadata": {},
   "source": [
    "# Step 6: Using Tableau\n",
    "\n",
    "Use Tableau to load the combined_csv_v2.csv file and build a dashboard that show your understanding of the data and business problem. \n",
    "### what to do:\n",
    "1. Load the data into Tableau and build the dashboard\n",
    "2. Share the dashboard on your Tableau public account \n",
    "3. Copy the link of the shared dashboard below\n",
    "\n",
    "Note: The dashboard needs to be self explainable to others, so make it simple and add only the features that you feel heighlight the main question(s) of the problem statement."
   ]
  },
  {
   "cell_type": "markdown",
   "metadata": {},
   "source": [
    "**Tableau Dashboard**\n",
    "\n",
    "> used dataset: combined_data.csv \n",
    "Due to limitation of size for dataset, used the 'combined_data.csv'. The version of Tableau could not load larger dataset.\n",
    "\n",
    "Link1: *ArrDel/ArrDel15(True) by Year*\n",
    "> https://public.tableau.com/views/finalproject_PartA_u3267686/ArrDelDelay_True?:language=en-US&:sid=&:redirect=auth&:display_count=n&:origin=viz_share_link\n",
    "\n",
    "Link2: *Dest/Origin by ArrDel15(Delay_True)*\n",
    "> https://public.tableau.com/shared/DMBMDJJTN?:display_count=n&:origin=viz_share_link"
   ]
  },
  {
   "cell_type": "markdown",
   "metadata": {},
   "source": [
    "## Conclusion\n",
    "\n",
    "You've now gone through at least a couple iterations of training and evaluating your model. It's time to wrap up this project and reflect on what you've learned and what types of steps you might take moving forward (assuming you had more time). Use the cell below to answer some of these and other relevant questions:\n",
    "\n",
    "1. Does your model performance meet your business goal? If not, what are some things you'd like to do differently if you had more time for tuning?\n",
    "2. To what extent did your model improve as you made changes to your dataset? What types of techniques did you employ throughout this project that you felt yielded the greatest improvements in your model?\n",
    "3. What were some of the biggest challenges you encountered throughout this project?\n",
    "4. What were the three most important things you learned about machine learning while completing this project?"
   ]
  },
  {
   "cell_type": "markdown",
   "metadata": {},
   "source": [
    "**On Meeting Goals and other possible approach:**\n",
    "\n",
    "The performance of the model is not acceptable to make prdiction for flight delays. Even with added features of weather data and holidays, the performance didn't improve. Another option can be to add historical delay data for Reporting Airlines and airports, flights coming in and out. The patterns there can help in building more robust model.\n",
    "As there was issue of class imbalances, techniques like SMOTE (Synthetic Minority Over-sampling Technique) can be considered to balance the class distribution by oversampling the minority class, or undersampling the majority class.\n",
    "Most importantly,Algorithms such as Random Forest, Gradient Boosting, or XGBoost should be considered as it often perform well on tabular data with complex relationships.\n",
    "\n",
    "**Effect of added features on Model:**\n",
    "\n",
    "With more features, With the addition of characteristics, accuracy, precision, recalls, and other parameters improved slightly as compared to the initial model. However, it is not substantial enough to provide an accurate prediction, and the confusion matrix revealed that a significant number of True Positives could not be detected. Working with this dataset requires a more robust model. However, it is clear that the addition of features had an impact on and improved the model, but only little.\n",
    "\n",
    "**Biggest Challenges:**\n",
    "\n",
    "Memory is the biggest aconcern when running algorithms like Random Forest, Gradient Boosting, or XGBoost on large datasets with complex relationships, especially on a local machine. Mitigation can be done to the dataset to adjust to CPU memory usage but it will yield weaker result compared to model prepared by using optimum capability. So it has to be said that complex robust algorithms needs higher memory and computational capability.\n",
    "\n",
    "**Learning Outcomes:**\n",
    "\n",
    "EDA is important to understand the structure and distribution of data. Data distributions and summary statistics can show the spread of data, skewness, and the presence of outliers, to make decisions on scaling or transformations. From this dataset we faced the issue of class imbalance and importance of precision, recall, F1-score, and AUC-ROC instead of relying solely on accuracy for performance evaluation. With Pair plots, heatmaps, and scatter plots, we saw how different variables interact with each other, helping to spot both positive and negative correlations.\n",
    "\n",
    "Domain Knowledge can help (in this case understanding the relation between time, weather, holiday etc.) in handling the features more meaningfully. It also shows the importance of adding additional relatable data as features. We have seen changes in preformance as well with added features, though not significant.\n",
    "\n",
    "From this project, it is seen that the necessity of thorough preprocessing, such as handling missing values, encoding categorical variables, and scaling features when required. These are necessary to  iterate through algorithm and select the perfect model. We also have to word around the constraint of machine's memory usage and computational capability.\n",
    "\n",
    "\n"
   ]
  }
 ],
 "metadata": {
  "kernelspec": {
   "display_name": "Python 3",
   "language": "python",
   "name": "python3"
  },
  "language_info": {
   "codemirror_mode": {
    "name": "ipython",
    "version": 3
   },
   "file_extension": ".py",
   "mimetype": "text/x-python",
   "name": "python",
   "nbconvert_exporter": "python",
   "pygments_lexer": "ipython3",
   "version": "3.12.0"
  }
 },
 "nbformat": 4,
 "nbformat_minor": 4
}
